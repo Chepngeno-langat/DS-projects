{
 "cells": [
  {
   "cell_type": "code",
   "execution_count": 1,
   "id": "80db4d30",
   "metadata": {},
   "outputs": [],
   "source": [
    "import io\n",
    "import re\n",
    "import random\n",
    "import numpy as np\n",
    "import pandas as pd\n",
    "import matplotlib.pyplot as plt\n",
    "from sklearn.model_selection import  train_test_split\n",
    "# sklearn provides CountVectorizer that converts a   collection of text documents to a matrix of token counts while   TfidfVectorizer converts a collection of raw documents to a matrix of TF-IDF   features.\n",
    "from sklearn.feature_extraction.text import CountVectorizer,   TfidfVectorizer\n",
    "from sklearn.metrics import  mean_squared_error as mse, r2_score\n",
    "from sklearn.model_selection import  KFold, StratifiedKFold\n",
    "from sklearn.linear_model import  LogisticRegression\n",
    "\n",
    "# Simpletransformers provides a simple way of training   transformers on NLP tasks\n",
    "from simpletransformers.classification import  ClassificationModel\n",
    "import warnings\n",
    "warnings.filterwarnings(\"ignore\")"
   ]
  },
  {
   "cell_type": "code",
   "execution_count": 2,
   "id": "af6f6967",
   "metadata": {},
   "outputs": [],
   "source": [
    "train_df = pd.read_csv('/home/karen/Documents/Datasets/Vaccination_sentiments/Train.csv')\n",
    "test_df = pd.read_csv('/home/karen/Documents/Datasets/Vaccination_sentiments/Test.csv')"
   ]
  },
  {
   "cell_type": "code",
   "execution_count": 3,
   "id": "c0c83ffb",
   "metadata": {},
   "outputs": [
    {
     "data": {
      "text/html": [
       "<div>\n",
       "<style scoped>\n",
       "    .dataframe tbody tr th:only-of-type {\n",
       "        vertical-align: middle;\n",
       "    }\n",
       "\n",
       "    .dataframe tbody tr th {\n",
       "        vertical-align: top;\n",
       "    }\n",
       "\n",
       "    .dataframe thead th {\n",
       "        text-align: right;\n",
       "    }\n",
       "</style>\n",
       "<table border=\"1\" class=\"dataframe\">\n",
       "  <thead>\n",
       "    <tr style=\"text-align: right;\">\n",
       "      <th></th>\n",
       "      <th>tweet_id</th>\n",
       "      <th>safe_text</th>\n",
       "      <th>label</th>\n",
       "      <th>agreement</th>\n",
       "    </tr>\n",
       "  </thead>\n",
       "  <tbody>\n",
       "    <tr>\n",
       "      <th>0</th>\n",
       "      <td>CL1KWCMY</td>\n",
       "      <td>Me &amp;amp; The Big Homie meanboy3000 #MEANBOY #M...</td>\n",
       "      <td>0.0</td>\n",
       "      <td>1.000000</td>\n",
       "    </tr>\n",
       "    <tr>\n",
       "      <th>1</th>\n",
       "      <td>E3303EME</td>\n",
       "      <td>I'm 100% thinking of devoting my career to pro...</td>\n",
       "      <td>1.0</td>\n",
       "      <td>1.000000</td>\n",
       "    </tr>\n",
       "    <tr>\n",
       "      <th>2</th>\n",
       "      <td>M4IVFSMS</td>\n",
       "      <td>#whatcausesautism VACCINES, DO NOT VACCINATE Y...</td>\n",
       "      <td>-1.0</td>\n",
       "      <td>1.000000</td>\n",
       "    </tr>\n",
       "    <tr>\n",
       "      <th>3</th>\n",
       "      <td>1DR6ROZ4</td>\n",
       "      <td>I mean if they immunize my kid with something ...</td>\n",
       "      <td>-1.0</td>\n",
       "      <td>1.000000</td>\n",
       "    </tr>\n",
       "    <tr>\n",
       "      <th>4</th>\n",
       "      <td>J77ENIIE</td>\n",
       "      <td>Thanks to &lt;user&gt; Catch me performing at La Nui...</td>\n",
       "      <td>0.0</td>\n",
       "      <td>1.000000</td>\n",
       "    </tr>\n",
       "    <tr>\n",
       "      <th>...</th>\n",
       "      <td>...</td>\n",
       "      <td>...</td>\n",
       "      <td>...</td>\n",
       "      <td>...</td>\n",
       "    </tr>\n",
       "    <tr>\n",
       "      <th>9996</th>\n",
       "      <td>IU0TIJDI</td>\n",
       "      <td>Living in a time where the sperm I used to was...</td>\n",
       "      <td>1.0</td>\n",
       "      <td>1.000000</td>\n",
       "    </tr>\n",
       "    <tr>\n",
       "      <th>9997</th>\n",
       "      <td>WKKPCJY6</td>\n",
       "      <td>&lt;user&gt; &lt;user&gt;  In spite of all measles outbrea...</td>\n",
       "      <td>1.0</td>\n",
       "      <td>0.666667</td>\n",
       "    </tr>\n",
       "    <tr>\n",
       "      <th>9998</th>\n",
       "      <td>ST3A265H</td>\n",
       "      <td>Interesting trends in child immunization in Ok...</td>\n",
       "      <td>0.0</td>\n",
       "      <td>1.000000</td>\n",
       "    </tr>\n",
       "    <tr>\n",
       "      <th>9999</th>\n",
       "      <td>6Z27IJGD</td>\n",
       "      <td>CDC Says Measles Are At Highest Levels In Deca...</td>\n",
       "      <td>0.0</td>\n",
       "      <td>1.000000</td>\n",
       "    </tr>\n",
       "    <tr>\n",
       "      <th>10000</th>\n",
       "      <td>P6190L3Q</td>\n",
       "      <td>Pneumonia vaccine: for women w risk of pulmona...</td>\n",
       "      <td>1.0</td>\n",
       "      <td>0.666667</td>\n",
       "    </tr>\n",
       "  </tbody>\n",
       "</table>\n",
       "<p>10001 rows × 4 columns</p>\n",
       "</div>"
      ],
      "text/plain": [
       "       tweet_id                                          safe_text  label  \\\n",
       "0      CL1KWCMY  Me &amp; The Big Homie meanboy3000 #MEANBOY #M...    0.0   \n",
       "1      E3303EME  I'm 100% thinking of devoting my career to pro...    1.0   \n",
       "2      M4IVFSMS  #whatcausesautism VACCINES, DO NOT VACCINATE Y...   -1.0   \n",
       "3      1DR6ROZ4  I mean if they immunize my kid with something ...   -1.0   \n",
       "4      J77ENIIE  Thanks to <user> Catch me performing at La Nui...    0.0   \n",
       "...         ...                                                ...    ...   \n",
       "9996   IU0TIJDI  Living in a time where the sperm I used to was...    1.0   \n",
       "9997   WKKPCJY6  <user> <user>  In spite of all measles outbrea...    1.0   \n",
       "9998   ST3A265H  Interesting trends in child immunization in Ok...    0.0   \n",
       "9999   6Z27IJGD  CDC Says Measles Are At Highest Levels In Deca...    0.0   \n",
       "10000  P6190L3Q  Pneumonia vaccine: for women w risk of pulmona...    1.0   \n",
       "\n",
       "       agreement  \n",
       "0       1.000000  \n",
       "1       1.000000  \n",
       "2       1.000000  \n",
       "3       1.000000  \n",
       "4       1.000000  \n",
       "...          ...  \n",
       "9996    1.000000  \n",
       "9997    0.666667  \n",
       "9998    1.000000  \n",
       "9999    1.000000  \n",
       "10000   0.666667  \n",
       "\n",
       "[10001 rows x 4 columns]"
      ]
     },
     "execution_count": 3,
     "metadata": {},
     "output_type": "execute_result"
    }
   ],
   "source": [
    "train_df"
   ]
  },
  {
   "cell_type": "code",
   "execution_count": 4,
   "id": "5d269417",
   "metadata": {},
   "outputs": [
    {
     "data": {
      "text/plain": [
       "tweet_id     0\n",
       "safe_text    0\n",
       "label        1\n",
       "agreement    2\n",
       "dtype: int64"
      ]
     },
     "execution_count": 4,
     "metadata": {},
     "output_type": "execute_result"
    }
   ],
   "source": [
    "train_df.isnull().sum()"
   ]
  },
  {
   "cell_type": "code",
   "execution_count": 5,
   "id": "49fdd7cd",
   "metadata": {},
   "outputs": [],
   "source": [
    "train_df = train_df.dropna()"
   ]
  },
  {
   "cell_type": "code",
   "execution_count": 6,
   "id": "a99f13cd",
   "metadata": {},
   "outputs": [
    {
     "data": {
      "text/plain": [
       "tweet_id     0\n",
       "safe_text    0\n",
       "label        0\n",
       "agreement    0\n",
       "dtype: int64"
      ]
     },
     "execution_count": 6,
     "metadata": {},
     "output_type": "execute_result"
    }
   ],
   "source": [
    "train_df.isnull().sum()"
   ]
  },
  {
   "cell_type": "code",
   "execution_count": 7,
   "id": "a1c142b9",
   "metadata": {},
   "outputs": [
    {
     "data": {
      "text/plain": [
       " 0.0    4908\n",
       " 1.0    4053\n",
       "-1.0    1038\n",
       "Name: label, dtype: int64"
      ]
     },
     "execution_count": 7,
     "metadata": {},
     "output_type": "execute_result"
    }
   ],
   "source": [
    "train_df.label.value_counts()"
   ]
  },
  {
   "cell_type": "code",
   "execution_count": 8,
   "id": "965ce532",
   "metadata": {},
   "outputs": [
    {
     "data": {
      "text/plain": [
       "<Axes: xlabel='label', ylabel='count'>"
      ]
     },
     "execution_count": 8,
     "metadata": {},
     "output_type": "execute_result"
    },
    {
     "data": {
      "image/png": "[encoded data removed]",
      "text/plain": [
       "<Figure size 640x480 with 1 Axes>"
      ]
     },
     "metadata": {},
     "output_type": "display_data"
    }
   ],
   "source": [
    "import seaborn as sns\n",
    "sns.countplot(x=train_df['label'])"
   ]
  },
  {
   "cell_type": "code",
   "execution_count": 9,
   "id": "07d8476f",
   "metadata": {},
   "outputs": [],
   "source": [
    "def clean_text(text):\n",
    "    # Remove <user>   tags\n",
    "    test = str(text)\n",
    "    text = re.sub(r'<.*?>', '',   text)\n",
    "    # Replace &amp; with   'and'\n",
    "    text = re.sub(r\"&amp;\", \"and\",   text) \n",
    "    # Replace punctuation   characters with spaces\n",
    "    filters='!\"#$%&()*+,-./:;<=>?@[\\\\]^_`{|}~\\t\\n'\n",
    "    translate_dict = dict((c, \"   \") for c in  filters)\n",
    "    translate_map =   str.maketrans(translate_dict)\n",
    "    text = text.translate(translate_map)\n",
    "    # Convert text to   lowercase\n",
    "    text = text.strip().lower()\n",
    "    return  text"
   ]
  },
  {
   "cell_type": "code",
   "execution_count": 10,
   "id": "67f4a097",
   "metadata": {},
   "outputs": [],
   "source": [
    "train_df.safe_text = train_df.safe_text.astype(str)\n",
    "test_df.safe_text = test_df.safe_text.astype(str)\n",
    "\n",
    "train_df['cleaned_text'] =   train_df.safe_text.apply(lambda x: clean_text(x))\n",
    "test_df['cleaned_text'] = test_df.safe_text.apply(lambda x:   clean_text(x))"
   ]
  },
  {
   "cell_type": "code",
   "execution_count": 11,
   "id": "932ddaf2",
   "metadata": {},
   "outputs": [
    {
     "data": {
      "text/html": [
       "<div>\n",
       "<style scoped>\n",
       "    .dataframe tbody tr th:only-of-type {\n",
       "        vertical-align: middle;\n",
       "    }\n",
       "\n",
       "    .dataframe tbody tr th {\n",
       "        vertical-align: top;\n",
       "    }\n",
       "\n",
       "    .dataframe thead th {\n",
       "        text-align: right;\n",
       "    }\n",
       "</style>\n",
       "<table border=\"1\" class=\"dataframe\">\n",
       "  <thead>\n",
       "    <tr style=\"text-align: right;\">\n",
       "      <th></th>\n",
       "      <th>tweet_id</th>\n",
       "      <th>safe_text</th>\n",
       "      <th>label</th>\n",
       "      <th>agreement</th>\n",
       "      <th>cleaned_text</th>\n",
       "    </tr>\n",
       "  </thead>\n",
       "  <tbody>\n",
       "    <tr>\n",
       "      <th>0</th>\n",
       "      <td>CL1KWCMY</td>\n",
       "      <td>Me &amp;amp; The Big Homie meanboy3000 #MEANBOY #M...</td>\n",
       "      <td>0.0</td>\n",
       "      <td>1.000000</td>\n",
       "      <td>me and the big homie meanboy3000    meanboy   ...</td>\n",
       "    </tr>\n",
       "    <tr>\n",
       "      <th>1</th>\n",
       "      <td>E3303EME</td>\n",
       "      <td>I'm 100% thinking of devoting my career to pro...</td>\n",
       "      <td>1.0</td>\n",
       "      <td>1.000000</td>\n",
       "      <td>i'm 100    thinking of devoting my career to p...</td>\n",
       "    </tr>\n",
       "    <tr>\n",
       "      <th>2</th>\n",
       "      <td>M4IVFSMS</td>\n",
       "      <td>#whatcausesautism VACCINES, DO NOT VACCINATE Y...</td>\n",
       "      <td>-1.0</td>\n",
       "      <td>1.000000</td>\n",
       "      <td>whatcausesautism vaccines    do not vaccinate ...</td>\n",
       "    </tr>\n",
       "    <tr>\n",
       "      <th>3</th>\n",
       "      <td>1DR6ROZ4</td>\n",
       "      <td>I mean if they immunize my kid with something ...</td>\n",
       "      <td>-1.0</td>\n",
       "      <td>1.000000</td>\n",
       "      <td>i mean if they immunize my kid with something ...</td>\n",
       "    </tr>\n",
       "    <tr>\n",
       "      <th>4</th>\n",
       "      <td>J77ENIIE</td>\n",
       "      <td>Thanks to &lt;user&gt; Catch me performing at La Nui...</td>\n",
       "      <td>0.0</td>\n",
       "      <td>1.000000</td>\n",
       "      <td>thanks to  catch me performing at la nuit nyc ...</td>\n",
       "    </tr>\n",
       "    <tr>\n",
       "      <th>...</th>\n",
       "      <td>...</td>\n",
       "      <td>...</td>\n",
       "      <td>...</td>\n",
       "      <td>...</td>\n",
       "      <td>...</td>\n",
       "    </tr>\n",
       "    <tr>\n",
       "      <th>9996</th>\n",
       "      <td>IU0TIJDI</td>\n",
       "      <td>Living in a time where the sperm I used to was...</td>\n",
       "      <td>1.0</td>\n",
       "      <td>1.000000</td>\n",
       "      <td>living in a time where the sperm i used to was...</td>\n",
       "    </tr>\n",
       "    <tr>\n",
       "      <th>9997</th>\n",
       "      <td>WKKPCJY6</td>\n",
       "      <td>&lt;user&gt; &lt;user&gt;  In spite of all measles outbrea...</td>\n",
       "      <td>1.0</td>\n",
       "      <td>0.666667</td>\n",
       "      <td>in spite of all measles outbreaks    judge in ...</td>\n",
       "    </tr>\n",
       "    <tr>\n",
       "      <th>9998</th>\n",
       "      <td>ST3A265H</td>\n",
       "      <td>Interesting trends in child immunization in Ok...</td>\n",
       "      <td>0.0</td>\n",
       "      <td>1.000000</td>\n",
       "      <td>interesting trends in child immunization in ok...</td>\n",
       "    </tr>\n",
       "    <tr>\n",
       "      <th>9999</th>\n",
       "      <td>6Z27IJGD</td>\n",
       "      <td>CDC Says Measles Are At Highest Levels In Deca...</td>\n",
       "      <td>0.0</td>\n",
       "      <td>1.000000</td>\n",
       "      <td>cdc says measles are at highest levels in deca...</td>\n",
       "    </tr>\n",
       "    <tr>\n",
       "      <th>10000</th>\n",
       "      <td>P6190L3Q</td>\n",
       "      <td>Pneumonia vaccine: for women w risk of pulmona...</td>\n",
       "      <td>1.0</td>\n",
       "      <td>0.666667</td>\n",
       "      <td>pneumonia vaccine    for women w risk of pulmo...</td>\n",
       "    </tr>\n",
       "  </tbody>\n",
       "</table>\n",
       "<p>9999 rows × 5 columns</p>\n",
       "</div>"
      ],
      "text/plain": [
       "       tweet_id                                          safe_text  label  \\\n",
       "0      CL1KWCMY  Me &amp; The Big Homie meanboy3000 #MEANBOY #M...    0.0   \n",
       "1      E3303EME  I'm 100% thinking of devoting my career to pro...    1.0   \n",
       "2      M4IVFSMS  #whatcausesautism VACCINES, DO NOT VACCINATE Y...   -1.0   \n",
       "3      1DR6ROZ4  I mean if they immunize my kid with something ...   -1.0   \n",
       "4      J77ENIIE  Thanks to <user> Catch me performing at La Nui...    0.0   \n",
       "...         ...                                                ...    ...   \n",
       "9996   IU0TIJDI  Living in a time where the sperm I used to was...    1.0   \n",
       "9997   WKKPCJY6  <user> <user>  In spite of all measles outbrea...    1.0   \n",
       "9998   ST3A265H  Interesting trends in child immunization in Ok...    0.0   \n",
       "9999   6Z27IJGD  CDC Says Measles Are At Highest Levels In Deca...    0.0   \n",
       "10000  P6190L3Q  Pneumonia vaccine: for women w risk of pulmona...    1.0   \n",
       "\n",
       "       agreement                                       cleaned_text  \n",
       "0       1.000000  me and the big homie meanboy3000    meanboy   ...  \n",
       "1       1.000000  i'm 100    thinking of devoting my career to p...  \n",
       "2       1.000000  whatcausesautism vaccines    do not vaccinate ...  \n",
       "3       1.000000  i mean if they immunize my kid with something ...  \n",
       "4       1.000000  thanks to  catch me performing at la nuit nyc ...  \n",
       "...          ...                                                ...  \n",
       "9996    1.000000  living in a time where the sperm i used to was...  \n",
       "9997    0.666667  in spite of all measles outbreaks    judge in ...  \n",
       "9998    1.000000  interesting trends in child immunization in ok...  \n",
       "9999    1.000000  cdc says measles are at highest levels in deca...  \n",
       "10000   0.666667  pneumonia vaccine    for women w risk of pulmo...  \n",
       "\n",
       "[9999 rows x 5 columns]"
      ]
     },
     "execution_count": 11,
     "metadata": {},
     "output_type": "execute_result"
    }
   ],
   "source": [
    "train_df"
   ]
  },
  {
   "cell_type": "code",
   "execution_count": 12,
   "id": "3fcdc2f8",
   "metadata": {},
   "outputs": [
    {
     "data": {
      "text/plain": [
       "array(['whatcausesautism vaccines    do not vaccinate your child',\n",
       "       \"i mean if they immunize my kid with something that won't secretly kill him years down the line then i'm all for it    but i don't trust that\",\n",
       "       'cdc lied and hid data that black boys have an 340    uncreased risk of developing autism after mmr    cdcwhistleblower help',\n",
       "       'vaccines causing autism',\n",
       "       'other than that    his defense is not against vaccines being harmful     but the american life being unhealthy'],\n",
       "      dtype=object)"
      ]
     },
     "execution_count": 12,
     "metadata": {},
     "output_type": "execute_result"
    }
   ],
   "source": [
    "# negative tweets\n",
    "train_df[train_df['label'] == -1]['cleaned_text'].values[:5]"
   ]
  },
  {
   "cell_type": "code",
   "execution_count": 13,
   "id": "d5e72c3c",
   "metadata": {},
   "outputs": [
    {
     "data": {
      "text/plain": [
       "array(['me and the big homie meanboy3000    meanboy    mb    mbs    mmr    stegmanlife     stegman st',\n",
       "       'thanks to  catch me performing at la nuit nyc 1134 1st ave    show starts at 6       jennifair    mmr…',\n",
       "       \"this point i have 2 text    butw   bon jovi cover playin     alibi's hope u can come out 2 mmr bbq will b there\",\n",
       "       'my prediction    vaccine exemption in arizona will end soon    to much money is being lost by big pharma',\n",
       "       '1   mug noche     mmr    mixmasterrod    dcdj    mmr       mad hatter'],\n",
       "      dtype=object)"
      ]
     },
     "execution_count": 13,
     "metadata": {},
     "output_type": "execute_result"
    }
   ],
   "source": [
    "# neutral tweets\n",
    "train_df[train_df['label'] == 0]['cleaned_text'].values[:5]"
   ]
  },
  {
   "cell_type": "code",
   "execution_count": 14,
   "id": "a46a5b05",
   "metadata": {},
   "outputs": [
    {
     "data": {
      "text/plain": [
       "array([\"i'm 100    thinking of devoting my career to proving autism isn't caused by vaccines due to the idiotic posts i've seen about world autism day\",\n",
       "       'a nearly 67 year old study when mental health studies and vaccines were relatively in their infancies that has been refuted',\n",
       "       'study of more than 95   000 kids finds no link between mmr vaccine and autism',\n",
       "       'psa    vaccinate your fucking kids',\n",
       "       'coughing extra on the shuttle and everyone thinks i have the measles    😂    vaccinateyourkids'],\n",
       "      dtype=object)"
      ]
     },
     "execution_count": 14,
     "metadata": {},
     "output_type": "execute_result"
    }
   ],
   "source": [
    "# positive tweets\n",
    "train_df[train_df['label'] == 1]['cleaned_text'].values[:5]"
   ]
  },
  {
   "cell_type": "code",
   "execution_count": 15,
   "id": "06ee0d61",
   "metadata": {},
   "outputs": [],
   "source": [
    "def get_model(model_type, model_name, n_epochs = 2, train_batch_size = 112, eval_batch_size = 144, seq_len = 134, lr = 2e-5):\n",
    "    \n",
    "    model = ClassificationModel('roberta','roberta-base',num_labels=1, use_cuda=False, args={'regression': True, 'fp16': False,'warmup_ratio':0.2,\n",
    "                                                                         'overwrite_output_dir':True,'reprocess_input_data':True,\n",
    "                                                                         'max_seq_length':128,'manual_seed':2020,\n",
    "                                                                         'num_train_epochs': 3,'weight_decay':5,'do_lower_case':True,'train_batch_size':16}) #wghtdecay:5\n",
    "\n",
    "\n",
    "    return model "
   ]
  },
  {
   "cell_type": "code",
   "execution_count": 16,
   "id": "18f19cbc",
   "metadata": {},
   "outputs": [],
   "source": [
    "clean_df = pd.DataFrame()\n",
    "clean_df['text'] = train_df['cleaned_text']\n",
    "clean_df['labels'] = train_df['label']\n",
    "clean_test = test_df[['cleaned_text']].rename({'cleaned_text': 'text'}, axis=1)\n",
    "clean_test['labels'] = 0\n",
    "clean_train, clean_val = train_test_split(clean_df, test_size=0.15, random_state=2)"
   ]
  },
  {
   "cell_type": "code",
   "execution_count": null,
   "id": "5d4a9301",
   "metadata": {},
   "outputs": [
    {
     "name": "stderr",
     "output_type": "stream",
     "text": [
      "Some weights of the model checkpoint at roberta-base were not used when initializing RobertaForSequenceClassification: ['lm_head.decoder.weight', 'lm_head.dense.bias', 'lm_head.layer_norm.bias', 'lm_head.layer_norm.weight', 'lm_head.dense.weight', 'lm_head.bias', 'roberta.pooler.dense.bias', 'roberta.pooler.dense.weight']\n",
      "- This IS expected if you are initializing RobertaForSequenceClassification from the checkpoint of a model trained on another task or with another architecture (e.g. initializing a BertForSequenceClassification model from a BertForPreTraining model).\n",
      "- This IS NOT expected if you are initializing RobertaForSequenceClassification from the checkpoint of a model that you expect to be exactly identical (initializing a BertForSequenceClassification model from a BertForSequenceClassification model).\n",
      "Some weights of RobertaForSequenceClassification were not initialized from the model checkpoint at roberta-base and are newly initialized: ['classifier.dense.bias', 'classifier.dense.weight', 'classifier.out_proj.weight', 'classifier.out_proj.bias']\n",
      "You should probably TRAIN this model on a down-stream task to be able to use it for predictions and inference.\n"
     ]
    },
    {
     "data": {
      "application/vnd.jupyter.widget-view+json": {
       "model_id": "bac55186217c40e49935d2629fc2821c",
       "version_major": 2,
       "version_minor": 0
      },
      "text/plain": [
       "  0%|          | 0/8499 [00:00<?, ?it/s]"
      ]
     },
     "metadata": {},
     "output_type": "display_data"
    }
   ],
   "source": [
    "model = get_model('roberta', 'roberta-base', n_epochs=3)\n",
    "model.train_model(clean_train)"
   ]
  }
 ],
 "metadata": {
  "kernelspec": {
   "display_name": "Python 3 (ipykernel)",
   "language": "python",
   "name": "python3"
  },
  "language_info": {
   "codemirror_mode": {
    "name": "ipython",
    "version": 3
   },
   "file_extension": ".py",
   "mimetype": "text/x-python",
   "name": "python",
   "nbconvert_exporter": "python",
   "pygments_lexer": "ipython3",
   "version": "3.10.9"
  }
 },
 "nbformat": 4,
 "nbformat_minor": 5
}
