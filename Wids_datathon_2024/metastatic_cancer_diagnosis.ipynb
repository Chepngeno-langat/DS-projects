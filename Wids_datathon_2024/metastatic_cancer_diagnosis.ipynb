{
 "cells": [
  {
   "cell_type": "code",
   "execution_count": 48,
   "id": "7276cbf0",
   "metadata": {},
   "outputs": [],
   "source": [
    "import pandas as pd\n",
    "import numpy as np\n",
    "import seaborn as sns\n",
    "import matplotlib.pyplot as plt\n",
    "%matplotlib inline"
   ]
  },
  {
   "cell_type": "code",
   "execution_count": 49,
   "id": "610063ac",
   "metadata": {},
   "outputs": [],
   "source": [
    "train_df = pd.read_csv('training.csv')\n",
    "test_df = pd.read_csv('test.csv')"
   ]
  },
  {
   "cell_type": "code",
   "execution_count": null,
   "id": "2d60e0c4",
   "metadata": {},
   "outputs": [],
   "source": [
    "train_df"
   ]
  },
  {
   "cell_type": "code",
   "execution_count": null,
   "id": "e3119872",
   "metadata": {},
   "outputs": [],
   "source": [
    "train_df.describe()"
   ]
  },
  {
   "cell_type": "code",
   "execution_count": null,
   "id": "d8188b22",
   "metadata": {},
   "outputs": [],
   "source": [
    "pd.set_option('display.max_columns', None)\n",
    "pd.set_option('display.max_rows', None)"
   ]
  },
  {
   "cell_type": "code",
   "execution_count": null,
   "id": "f2d86c35",
   "metadata": {},
   "outputs": [],
   "source": [
    "train_df.isnull().sum()"
   ]
  },
  {
   "cell_type": "code",
   "execution_count": null,
   "id": "ad0e5a2c",
   "metadata": {},
   "outputs": [],
   "source": [
    "train_df.patient_race.value_counts()"
   ]
  },
  {
   "cell_type": "code",
   "execution_count": null,
   "id": "f015c1a7",
   "metadata": {},
   "outputs": [],
   "source": [
    "train_df['patient_race'].fillna('not_given', inplace=True)"
   ]
  },
  {
   "cell_type": "code",
   "execution_count": null,
   "id": "7c9aad32",
   "metadata": {},
   "outputs": [],
   "source": [
    "train_df['payer_type'].value_counts()"
   ]
  },
  {
   "cell_type": "code",
   "execution_count": null,
   "id": "93c07300",
   "metadata": {},
   "outputs": [],
   "source": [
    "train_df['payer_type'].fillna('none_given', inplace=True)\n",
    "train_df['Region'].fillna('none_given', inplace=True)\n",
    "train_df['Division'].fillna('none_given', inplace=True)"
   ]
  },
  {
   "cell_type": "code",
   "execution_count": null,
   "id": "6d69d56b",
   "metadata": {},
   "outputs": [],
   "source": [
    "train_df['patient_state'].value_counts()"
   ]
  },
  {
   "cell_type": "code",
   "execution_count": null,
   "id": "92987e47",
   "metadata": {},
   "outputs": [],
   "source": [
    "max_state = train_df['patient_state'].mode()[0]\n",
    "train_df['patient_state'].fillna(max_state, inplace=True)"
   ]
  },
  {
   "cell_type": "code",
   "execution_count": null,
   "id": "acf639c1",
   "metadata": {},
   "outputs": [],
   "source": [
    "median_bmi = train_df['bmi'].median()\n",
    "train_df['bmi'].fillna(median_bmi, inplace=True)"
   ]
  },
  {
   "cell_type": "code",
   "execution_count": null,
   "id": "96d1cc16",
   "metadata": {},
   "outputs": [],
   "source": [
    "medians = train_df.median()\n",
    "train_df.fillna(medians, inplace=True)"
   ]
  },
  {
   "cell_type": "code",
   "execution_count": null,
   "id": "762344cb",
   "metadata": {},
   "outputs": [],
   "source": [
    "train_df['metastatic_first_novel_treatment'].value_counts()"
   ]
  },
  {
   "cell_type": "code",
   "execution_count": null,
   "id": "7d110b1f",
   "metadata": {},
   "outputs": [],
   "source": [
    "train_df['metastatic_first_novel_treatment_type'].value_counts()"
   ]
  },
  {
   "cell_type": "code",
   "execution_count": null,
   "id": "092980ca",
   "metadata": {},
   "outputs": [],
   "source": [
    "train_df['DiagPeriodL90D'].value_counts()"
   ]
  },
  {
   "cell_type": "code",
   "execution_count": null,
   "id": "9b71b5b3",
   "metadata": {},
   "outputs": [],
   "source": [
    "train_df.drop(columns=['patient_gender'], inplace=True)\n",
    "test_df.drop(columns=['patient_gender'], inplace=True)"
   ]
  },
  {
   "cell_type": "code",
   "execution_count": null,
   "id": "886b56b3",
   "metadata": {},
   "outputs": [],
   "source": [
    "race = train_df['patient_race'].value_counts()\n",
    "plt.figure(figsize=(7, 6))\n",
    "ax = race.plot(kind='bar', rot=0, color='c')\n",
    "ax.set_title('Race Distribution')\n",
    "ax.set_xlabel('Race')\n",
    "ax.set_ylabel('Count')\n",
    "for rect in ax.patches:\n",
    "    y_value = rect.get_height()\n",
    "    x_value = rect.get_x() + rect.get_width()\n",
    "    space = 1\n",
    "    label = format(y_value)\n",
    "    ax.annotate(label, (x_value, y_value))\n",
    "    \n",
    "plt.show()"
   ]
  },
  {
   "cell_type": "code",
   "execution_count": null,
   "id": "56d6f532",
   "metadata": {},
   "outputs": [],
   "source": [
    "plt.figure(figsize=(10, 6))\n",
    "sns.countplot(x='patient_race', hue='DiagPeriodL90D', data=train_df)\n",
    "plt.title('Relationship between Patient Race and Diagnosis')\n",
    "plt.show()"
   ]
  },
  {
   "cell_type": "code",
   "execution_count": null,
   "id": "1eaa3a5d",
   "metadata": {},
   "outputs": [],
   "source": [
    "plt.figure(figsize=(10, 6))\n",
    "sns.boxplot(x='DiagPeriodL90D', y='bmi', data=train_df, palette='viridis')\n",
    "plt.title('Relationship between BMI and Diagnosis')\n",
    "plt.xlabel('Diagnosis')\n",
    "plt.ylabel('BMI')\n",
    "plt.show()"
   ]
  },
  {
   "cell_type": "code",
   "execution_count": null,
   "id": "ab9074e4",
   "metadata": {},
   "outputs": [],
   "source": [
    "train_df.dtypes"
   ]
  },
  {
   "cell_type": "code",
   "execution_count": null,
   "id": "8bb8ef42",
   "metadata": {},
   "outputs": [],
   "source": [
    "train_df['metastatic_first_novel_treatment_type'].value_counts()"
   ]
  },
  {
   "cell_type": "code",
   "execution_count": null,
   "id": "b1497b30",
   "metadata": {},
   "outputs": [],
   "source": [
    "import spacy\n",
    "\n",
    "nlp = spacy.load('en_core_web_lg')"
   ]
  },
  {
   "cell_type": "code",
   "execution_count": null,
   "id": "0334b3ed",
   "metadata": {},
   "outputs": [],
   "source": [
    "train_df['breast_cancer_diagnosis_desc'] = train_df['breast_cancer_diagnosis_desc'].apply(lambda x: nlp(x).vector)"
   ]
  },
  {
   "cell_type": "code",
   "execution_count": null,
   "id": "f9decf9e",
   "metadata": {},
   "outputs": [],
   "source": [
    "test_df['breast_cancer_diagnosis_desc'] = test_df['breast_cancer_diagnosis_desc'].apply(lambda x: nlp(x).vector)"
   ]
  },
  {
   "cell_type": "code",
   "execution_count": null,
   "id": "0742cbbc",
   "metadata": {},
   "outputs": [],
   "source": [
    "train_df.drop(columns=['breast_cancer_diagnosis_code', 'metastatic_cancer_diagnosis_code', 'metastatic_first_novel_treatment', 'metastatic_first_novel_treatment_type'], inplace=True)\n",
    "test_df.drop(columns=['breast_cancer_diagnosis_code', 'metastatic_cancer_diagnosis_code', 'metastatic_first_novel_treatment', 'metastatic_first_novel_treatment_type'], inplace=True)"
   ]
  },
  {
   "cell_type": "code",
   "execution_count": null,
   "id": "fd0f3b60",
   "metadata": {},
   "outputs": [],
   "source": [
    "train_df['par']"
   ]
  },
  {
   "cell_type": "code",
   "execution_count": null,
   "id": "cadf988a",
   "metadata": {},
   "outputs": [],
   "source": [
    "df = pd.concat([df, pd.get_dummies(df['patient_race'], prefix='patient_race')], axis=1)\n",
    "\n",
    "# Drop the original 'patient_race' column\n",
    "df.drop(columns=['patient_race'], inplace=True)\n",
    "\n",
    "# Display the updated DataFrame\n",
    "print(df"
   ]
  }
 ],
 "metadata": {
  "kernelspec": {
   "display_name": "Python 3 (ipykernel)",
   "language": "python",
   "name": "python3"
  },
  "language_info": {
   "codemirror_mode": {
    "name": "ipython",
    "version": 3
   },
   "file_extension": ".py",
   "mimetype": "text/x-python",
   "name": "python",
   "nbconvert_exporter": "python",
   "pygments_lexer": "ipython3",
   "version": "3.10.13"
  }
 },
 "nbformat": 4,
 "nbformat_minor": 5
}
