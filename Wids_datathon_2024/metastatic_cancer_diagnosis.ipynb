{
 "cells": [
  {
   "cell_type": "code",
   "execution_count": 1,
   "id": "7276cbf0",
   "metadata": {},
   "outputs": [],
   "source": [
    "import pandas as pd\n",
    "import numpy as np\n",
    "import seaborn as sns\n",
    "import matplotlib.pyplot as plt\n",
    "%matplotlib inline"
   ]
  },
  {
   "cell_type": "code",
   "execution_count": 2,
   "id": "610063ac",
   "metadata": {},
   "outputs": [],
   "source": [
    "train_df = pd.read_csv('training.csv')\n",
    "test_df = pd.read_csv('test.csv')"
   ]
  },
  {
   "cell_type": "code",
   "execution_count": 3,
   "id": "2d60e0c4",
   "metadata": {},
   "outputs": [
    {
     "data": {
      "text/html": [
       "<div>\n",
       "<style scoped>\n",
       "    .dataframe tbody tr th:only-of-type {\n",
       "        vertical-align: middle;\n",
       "    }\n",
       "\n",
       "    .dataframe tbody tr th {\n",
       "        vertical-align: top;\n",
       "    }\n",
       "\n",
       "    .dataframe thead th {\n",
       "        text-align: right;\n",
       "    }\n",
       "</style>\n",
       "<table border=\"1\" class=\"dataframe\">\n",
       "  <thead>\n",
       "    <tr style=\"text-align: right;\">\n",
       "      <th></th>\n",
       "      <th>patient_id</th>\n",
       "      <th>patient_race</th>\n",
       "      <th>payer_type</th>\n",
       "      <th>patient_state</th>\n",
       "      <th>patient_zip3</th>\n",
       "      <th>patient_age</th>\n",
       "      <th>patient_gender</th>\n",
       "      <th>bmi</th>\n",
       "      <th>breast_cancer_diagnosis_code</th>\n",
       "      <th>breast_cancer_diagnosis_desc</th>\n",
       "      <th>...</th>\n",
       "      <th>disabled</th>\n",
       "      <th>poverty</th>\n",
       "      <th>limited_english</th>\n",
       "      <th>commute_time</th>\n",
       "      <th>health_uninsured</th>\n",
       "      <th>veteran</th>\n",
       "      <th>Ozone</th>\n",
       "      <th>PM25</th>\n",
       "      <th>N02</th>\n",
       "      <th>DiagPeriodL90D</th>\n",
       "    </tr>\n",
       "  </thead>\n",
       "  <tbody>\n",
       "    <tr>\n",
       "      <th>0</th>\n",
       "      <td>475714</td>\n",
       "      <td>NaN</td>\n",
       "      <td>MEDICAID</td>\n",
       "      <td>CA</td>\n",
       "      <td>924</td>\n",
       "      <td>84</td>\n",
       "      <td>F</td>\n",
       "      <td>NaN</td>\n",
       "      <td>C50919</td>\n",
       "      <td>Malignant neoplasm of unsp site of unspecified...</td>\n",
       "      <td>...</td>\n",
       "      <td>12.871429</td>\n",
       "      <td>22.542857</td>\n",
       "      <td>10.100000</td>\n",
       "      <td>27.814286</td>\n",
       "      <td>11.200000</td>\n",
       "      <td>3.500000</td>\n",
       "      <td>52.237210</td>\n",
       "      <td>8.650555</td>\n",
       "      <td>18.606528</td>\n",
       "      <td>1</td>\n",
       "    </tr>\n",
       "    <tr>\n",
       "      <th>1</th>\n",
       "      <td>349367</td>\n",
       "      <td>White</td>\n",
       "      <td>COMMERCIAL</td>\n",
       "      <td>CA</td>\n",
       "      <td>928</td>\n",
       "      <td>62</td>\n",
       "      <td>F</td>\n",
       "      <td>28.49</td>\n",
       "      <td>C50411</td>\n",
       "      <td>Malig neoplm of upper-outer quadrant of right ...</td>\n",
       "      <td>...</td>\n",
       "      <td>8.957576</td>\n",
       "      <td>10.109091</td>\n",
       "      <td>8.057576</td>\n",
       "      <td>30.606061</td>\n",
       "      <td>7.018182</td>\n",
       "      <td>4.103030</td>\n",
       "      <td>42.301121</td>\n",
       "      <td>8.487175</td>\n",
       "      <td>20.113179</td>\n",
       "      <td>1</td>\n",
       "    </tr>\n",
       "    <tr>\n",
       "      <th>2</th>\n",
       "      <td>138632</td>\n",
       "      <td>White</td>\n",
       "      <td>COMMERCIAL</td>\n",
       "      <td>TX</td>\n",
       "      <td>760</td>\n",
       "      <td>43</td>\n",
       "      <td>F</td>\n",
       "      <td>38.09</td>\n",
       "      <td>C50112</td>\n",
       "      <td>Malignant neoplasm of central portion of left ...</td>\n",
       "      <td>...</td>\n",
       "      <td>11.253333</td>\n",
       "      <td>9.663333</td>\n",
       "      <td>3.356667</td>\n",
       "      <td>31.394915</td>\n",
       "      <td>15.066667</td>\n",
       "      <td>7.446667</td>\n",
       "      <td>40.108207</td>\n",
       "      <td>7.642753</td>\n",
       "      <td>14.839351</td>\n",
       "      <td>1</td>\n",
       "    </tr>\n",
       "    <tr>\n",
       "      <th>3</th>\n",
       "      <td>617843</td>\n",
       "      <td>White</td>\n",
       "      <td>COMMERCIAL</td>\n",
       "      <td>CA</td>\n",
       "      <td>926</td>\n",
       "      <td>45</td>\n",
       "      <td>F</td>\n",
       "      <td>NaN</td>\n",
       "      <td>C50212</td>\n",
       "      <td>Malig neoplasm of upper-inner quadrant of left...</td>\n",
       "      <td>...</td>\n",
       "      <td>8.845238</td>\n",
       "      <td>8.688095</td>\n",
       "      <td>5.280952</td>\n",
       "      <td>27.561905</td>\n",
       "      <td>4.404762</td>\n",
       "      <td>4.809524</td>\n",
       "      <td>42.070075</td>\n",
       "      <td>7.229393</td>\n",
       "      <td>15.894123</td>\n",
       "      <td>0</td>\n",
       "    </tr>\n",
       "    <tr>\n",
       "      <th>4</th>\n",
       "      <td>817482</td>\n",
       "      <td>NaN</td>\n",
       "      <td>COMMERCIAL</td>\n",
       "      <td>ID</td>\n",
       "      <td>836</td>\n",
       "      <td>55</td>\n",
       "      <td>F</td>\n",
       "      <td>NaN</td>\n",
       "      <td>1749</td>\n",
       "      <td>Malignant neoplasm of breast (female), unspeci...</td>\n",
       "      <td>...</td>\n",
       "      <td>15.276000</td>\n",
       "      <td>11.224000</td>\n",
       "      <td>1.946000</td>\n",
       "      <td>26.170213</td>\n",
       "      <td>12.088000</td>\n",
       "      <td>13.106000</td>\n",
       "      <td>41.356058</td>\n",
       "      <td>4.110749</td>\n",
       "      <td>11.722197</td>\n",
       "      <td>0</td>\n",
       "    </tr>\n",
       "    <tr>\n",
       "      <th>...</th>\n",
       "      <td>...</td>\n",
       "      <td>...</td>\n",
       "      <td>...</td>\n",
       "      <td>...</td>\n",
       "      <td>...</td>\n",
       "      <td>...</td>\n",
       "      <td>...</td>\n",
       "      <td>...</td>\n",
       "      <td>...</td>\n",
       "      <td>...</td>\n",
       "      <td>...</td>\n",
       "      <td>...</td>\n",
       "      <td>...</td>\n",
       "      <td>...</td>\n",
       "      <td>...</td>\n",
       "      <td>...</td>\n",
       "      <td>...</td>\n",
       "      <td>...</td>\n",
       "      <td>...</td>\n",
       "      <td>...</td>\n",
       "      <td>...</td>\n",
       "    </tr>\n",
       "    <tr>\n",
       "      <th>12901</th>\n",
       "      <td>674178</td>\n",
       "      <td>White</td>\n",
       "      <td>NaN</td>\n",
       "      <td>OH</td>\n",
       "      <td>436</td>\n",
       "      <td>50</td>\n",
       "      <td>F</td>\n",
       "      <td>32.11</td>\n",
       "      <td>C50411</td>\n",
       "      <td>Malig neoplm of upper-outer quadrant of right ...</td>\n",
       "      <td>...</td>\n",
       "      <td>17.400000</td>\n",
       "      <td>23.600000</td>\n",
       "      <td>0.864706</td>\n",
       "      <td>19.841176</td>\n",
       "      <td>6.300000</td>\n",
       "      <td>6.247059</td>\n",
       "      <td>38.753055</td>\n",
       "      <td>8.068682</td>\n",
       "      <td>21.140731</td>\n",
       "      <td>1</td>\n",
       "    </tr>\n",
       "    <tr>\n",
       "      <th>12902</th>\n",
       "      <td>452909</td>\n",
       "      <td>NaN</td>\n",
       "      <td>COMMERCIAL</td>\n",
       "      <td>CA</td>\n",
       "      <td>945</td>\n",
       "      <td>50</td>\n",
       "      <td>F</td>\n",
       "      <td>NaN</td>\n",
       "      <td>C50912</td>\n",
       "      <td>Malignant neoplasm of unspecified site of left...</td>\n",
       "      <td>...</td>\n",
       "      <td>11.243210</td>\n",
       "      <td>7.837037</td>\n",
       "      <td>5.411250</td>\n",
       "      <td>34.700000</td>\n",
       "      <td>3.845679</td>\n",
       "      <td>5.671605</td>\n",
       "      <td>36.469947</td>\n",
       "      <td>6.265266</td>\n",
       "      <td>10.728732</td>\n",
       "      <td>1</td>\n",
       "    </tr>\n",
       "    <tr>\n",
       "      <th>12903</th>\n",
       "      <td>357486</td>\n",
       "      <td>NaN</td>\n",
       "      <td>COMMERCIAL</td>\n",
       "      <td>CA</td>\n",
       "      <td>926</td>\n",
       "      <td>61</td>\n",
       "      <td>F</td>\n",
       "      <td>29.24</td>\n",
       "      <td>C50912</td>\n",
       "      <td>Malignant neoplasm of unspecified site of left...</td>\n",
       "      <td>...</td>\n",
       "      <td>8.845238</td>\n",
       "      <td>8.688095</td>\n",
       "      <td>5.280952</td>\n",
       "      <td>27.561905</td>\n",
       "      <td>4.404762</td>\n",
       "      <td>4.809524</td>\n",
       "      <td>42.070075</td>\n",
       "      <td>7.229393</td>\n",
       "      <td>15.894123</td>\n",
       "      <td>1</td>\n",
       "    </tr>\n",
       "    <tr>\n",
       "      <th>12904</th>\n",
       "      <td>935417</td>\n",
       "      <td>NaN</td>\n",
       "      <td>NaN</td>\n",
       "      <td>NY</td>\n",
       "      <td>112</td>\n",
       "      <td>37</td>\n",
       "      <td>F</td>\n",
       "      <td>31.00</td>\n",
       "      <td>1749</td>\n",
       "      <td>Malignant neoplasm of breast (female), unspeci...</td>\n",
       "      <td>...</td>\n",
       "      <td>10.194737</td>\n",
       "      <td>18.642105</td>\n",
       "      <td>14.173684</td>\n",
       "      <td>42.502632</td>\n",
       "      <td>6.392105</td>\n",
       "      <td>1.755263</td>\n",
       "      <td>37.722740</td>\n",
       "      <td>7.879795</td>\n",
       "      <td>27.496367</td>\n",
       "      <td>0</td>\n",
       "    </tr>\n",
       "    <tr>\n",
       "      <th>12905</th>\n",
       "      <td>179597</td>\n",
       "      <td>Hispanic</td>\n",
       "      <td>MEDICAID</td>\n",
       "      <td>FL</td>\n",
       "      <td>336</td>\n",
       "      <td>29</td>\n",
       "      <td>F</td>\n",
       "      <td>NaN</td>\n",
       "      <td>C50412</td>\n",
       "      <td>Malig neoplasm of upper-outer quadrant of left...</td>\n",
       "      <td>...</td>\n",
       "      <td>10.988889</td>\n",
       "      <td>18.470370</td>\n",
       "      <td>11.777778</td>\n",
       "      <td>24.951852</td>\n",
       "      <td>11.759259</td>\n",
       "      <td>6.577778</td>\n",
       "      <td>37.228624</td>\n",
       "      <td>8.652507</td>\n",
       "      <td>16.436409</td>\n",
       "      <td>1</td>\n",
       "    </tr>\n",
       "  </tbody>\n",
       "</table>\n",
       "<p>12906 rows × 83 columns</p>\n",
       "</div>"
      ],
      "text/plain": [
       "       patient_id patient_race  payer_type patient_state  patient_zip3  \\\n",
       "0          475714          NaN    MEDICAID            CA           924   \n",
       "1          349367        White  COMMERCIAL            CA           928   \n",
       "2          138632        White  COMMERCIAL            TX           760   \n",
       "3          617843        White  COMMERCIAL            CA           926   \n",
       "4          817482          NaN  COMMERCIAL            ID           836   \n",
       "...           ...          ...         ...           ...           ...   \n",
       "12901      674178        White         NaN            OH           436   \n",
       "12902      452909          NaN  COMMERCIAL            CA           945   \n",
       "12903      357486          NaN  COMMERCIAL            CA           926   \n",
       "12904      935417          NaN         NaN            NY           112   \n",
       "12905      179597     Hispanic    MEDICAID            FL           336   \n",
       "\n",
       "       patient_age patient_gender    bmi breast_cancer_diagnosis_code  \\\n",
       "0               84              F    NaN                       C50919   \n",
       "1               62              F  28.49                       C50411   \n",
       "2               43              F  38.09                       C50112   \n",
       "3               45              F    NaN                       C50212   \n",
       "4               55              F    NaN                         1749   \n",
       "...            ...            ...    ...                          ...   \n",
       "12901           50              F  32.11                       C50411   \n",
       "12902           50              F    NaN                       C50912   \n",
       "12903           61              F  29.24                       C50912   \n",
       "12904           37              F  31.00                         1749   \n",
       "12905           29              F    NaN                       C50412   \n",
       "\n",
       "                            breast_cancer_diagnosis_desc  ...   disabled  \\\n",
       "0      Malignant neoplasm of unsp site of unspecified...  ...  12.871429   \n",
       "1      Malig neoplm of upper-outer quadrant of right ...  ...   8.957576   \n",
       "2      Malignant neoplasm of central portion of left ...  ...  11.253333   \n",
       "3      Malig neoplasm of upper-inner quadrant of left...  ...   8.845238   \n",
       "4      Malignant neoplasm of breast (female), unspeci...  ...  15.276000   \n",
       "...                                                  ...  ...        ...   \n",
       "12901  Malig neoplm of upper-outer quadrant of right ...  ...  17.400000   \n",
       "12902  Malignant neoplasm of unspecified site of left...  ...  11.243210   \n",
       "12903  Malignant neoplasm of unspecified site of left...  ...   8.845238   \n",
       "12904  Malignant neoplasm of breast (female), unspeci...  ...  10.194737   \n",
       "12905  Malig neoplasm of upper-outer quadrant of left...  ...  10.988889   \n",
       "\n",
       "         poverty limited_english commute_time health_uninsured    veteran  \\\n",
       "0      22.542857       10.100000    27.814286        11.200000   3.500000   \n",
       "1      10.109091        8.057576    30.606061         7.018182   4.103030   \n",
       "2       9.663333        3.356667    31.394915        15.066667   7.446667   \n",
       "3       8.688095        5.280952    27.561905         4.404762   4.809524   \n",
       "4      11.224000        1.946000    26.170213        12.088000  13.106000   \n",
       "...          ...             ...          ...              ...        ...   \n",
       "12901  23.600000        0.864706    19.841176         6.300000   6.247059   \n",
       "12902   7.837037        5.411250    34.700000         3.845679   5.671605   \n",
       "12903   8.688095        5.280952    27.561905         4.404762   4.809524   \n",
       "12904  18.642105       14.173684    42.502632         6.392105   1.755263   \n",
       "12905  18.470370       11.777778    24.951852        11.759259   6.577778   \n",
       "\n",
       "           Ozone      PM25        N02  DiagPeriodL90D  \n",
       "0      52.237210  8.650555  18.606528               1  \n",
       "1      42.301121  8.487175  20.113179               1  \n",
       "2      40.108207  7.642753  14.839351               1  \n",
       "3      42.070075  7.229393  15.894123               0  \n",
       "4      41.356058  4.110749  11.722197               0  \n",
       "...          ...       ...        ...             ...  \n",
       "12901  38.753055  8.068682  21.140731               1  \n",
       "12902  36.469947  6.265266  10.728732               1  \n",
       "12903  42.070075  7.229393  15.894123               1  \n",
       "12904  37.722740  7.879795  27.496367               0  \n",
       "12905  37.228624  8.652507  16.436409               1  \n",
       "\n",
       "[12906 rows x 83 columns]"
      ]
     },
     "execution_count": 3,
     "metadata": {},
     "output_type": "execute_result"
    }
   ],
   "source": [
    "train_df"
   ]
  },
  {
   "cell_type": "code",
   "execution_count": 4,
   "id": "e3119872",
   "metadata": {},
   "outputs": [
    {
     "data": {
      "text/html": [
       "<div>\n",
       "<style scoped>\n",
       "    .dataframe tbody tr th:only-of-type {\n",
       "        vertical-align: middle;\n",
       "    }\n",
       "\n",
       "    .dataframe tbody tr th {\n",
       "        vertical-align: top;\n",
       "    }\n",
       "\n",
       "    .dataframe thead th {\n",
       "        text-align: right;\n",
       "    }\n",
       "</style>\n",
       "<table border=\"1\" class=\"dataframe\">\n",
       "  <thead>\n",
       "    <tr style=\"text-align: right;\">\n",
       "      <th></th>\n",
       "      <th>patient_id</th>\n",
       "      <th>patient_zip3</th>\n",
       "      <th>patient_age</th>\n",
       "      <th>bmi</th>\n",
       "      <th>population</th>\n",
       "      <th>density</th>\n",
       "      <th>age_median</th>\n",
       "      <th>age_under_10</th>\n",
       "      <th>age_10_to_19</th>\n",
       "      <th>age_20s</th>\n",
       "      <th>...</th>\n",
       "      <th>disabled</th>\n",
       "      <th>poverty</th>\n",
       "      <th>limited_english</th>\n",
       "      <th>commute_time</th>\n",
       "      <th>health_uninsured</th>\n",
       "      <th>veteran</th>\n",
       "      <th>Ozone</th>\n",
       "      <th>PM25</th>\n",
       "      <th>N02</th>\n",
       "      <th>DiagPeriodL90D</th>\n",
       "    </tr>\n",
       "  </thead>\n",
       "  <tbody>\n",
       "    <tr>\n",
       "      <th>count</th>\n",
       "      <td>12906.000000</td>\n",
       "      <td>12906.000000</td>\n",
       "      <td>12906.000000</td>\n",
       "      <td>3941.000000</td>\n",
       "      <td>12905.000000</td>\n",
       "      <td>12905.000000</td>\n",
       "      <td>12905.000000</td>\n",
       "      <td>12905.000000</td>\n",
       "      <td>12905.000000</td>\n",
       "      <td>12905.000000</td>\n",
       "      <td>...</td>\n",
       "      <td>12905.000000</td>\n",
       "      <td>12902.000000</td>\n",
       "      <td>12902.000000</td>\n",
       "      <td>12905.000000</td>\n",
       "      <td>12905.000000</td>\n",
       "      <td>12905.000000</td>\n",
       "      <td>12877.000000</td>\n",
       "      <td>12877.000000</td>\n",
       "      <td>12877.000000</td>\n",
       "      <td>12906.000000</td>\n",
       "    </tr>\n",
       "    <tr>\n",
       "      <th>mean</th>\n",
       "      <td>547381.196033</td>\n",
       "      <td>573.754300</td>\n",
       "      <td>59.183326</td>\n",
       "      <td>28.984539</td>\n",
       "      <td>20744.441237</td>\n",
       "      <td>1581.950419</td>\n",
       "      <td>40.502259</td>\n",
       "      <td>11.122784</td>\n",
       "      <td>12.945265</td>\n",
       "      <td>13.290376</td>\n",
       "      <td>...</td>\n",
       "      <td>13.335299</td>\n",
       "      <td>13.406950</td>\n",
       "      <td>4.474956</td>\n",
       "      <td>27.978387</td>\n",
       "      <td>8.575284</td>\n",
       "      <td>7.083376</td>\n",
       "      <td>39.822352</td>\n",
       "      <td>7.475221</td>\n",
       "      <td>16.098988</td>\n",
       "      <td>0.624516</td>\n",
       "    </tr>\n",
       "    <tr>\n",
       "      <th>std</th>\n",
       "      <td>260404.959974</td>\n",
       "      <td>275.447534</td>\n",
       "      <td>13.335216</td>\n",
       "      <td>5.696906</td>\n",
       "      <td>13886.903756</td>\n",
       "      <td>2966.305306</td>\n",
       "      <td>4.036963</td>\n",
       "      <td>1.512376</td>\n",
       "      <td>1.923974</td>\n",
       "      <td>3.354103</td>\n",
       "      <td>...</td>\n",
       "      <td>3.690949</td>\n",
       "      <td>5.222495</td>\n",
       "      <td>4.837085</td>\n",
       "      <td>5.083939</td>\n",
       "      <td>4.203482</td>\n",
       "      <td>3.109022</td>\n",
       "      <td>3.559492</td>\n",
       "      <td>1.516499</td>\n",
       "      <td>5.842501</td>\n",
       "      <td>0.484266</td>\n",
       "    </tr>\n",
       "    <tr>\n",
       "      <th>min</th>\n",
       "      <td>100063.000000</td>\n",
       "      <td>101.000000</td>\n",
       "      <td>18.000000</td>\n",
       "      <td>14.000000</td>\n",
       "      <td>635.545455</td>\n",
       "      <td>0.916667</td>\n",
       "      <td>20.600000</td>\n",
       "      <td>0.000000</td>\n",
       "      <td>6.314286</td>\n",
       "      <td>5.925000</td>\n",
       "      <td>...</td>\n",
       "      <td>4.600000</td>\n",
       "      <td>3.433333</td>\n",
       "      <td>0.000000</td>\n",
       "      <td>12.460784</td>\n",
       "      <td>2.440000</td>\n",
       "      <td>1.200000</td>\n",
       "      <td>30.939316</td>\n",
       "      <td>2.636008</td>\n",
       "      <td>2.760371</td>\n",
       "      <td>0.000000</td>\n",
       "    </tr>\n",
       "    <tr>\n",
       "      <th>25%</th>\n",
       "      <td>321517.000000</td>\n",
       "      <td>331.000000</td>\n",
       "      <td>50.000000</td>\n",
       "      <td>24.660000</td>\n",
       "      <td>9463.896552</td>\n",
       "      <td>171.857143</td>\n",
       "      <td>37.129825</td>\n",
       "      <td>10.160000</td>\n",
       "      <td>11.741176</td>\n",
       "      <td>11.013415</td>\n",
       "      <td>...</td>\n",
       "      <td>10.270492</td>\n",
       "      <td>9.663333</td>\n",
       "      <td>0.994444</td>\n",
       "      <td>24.933333</td>\n",
       "      <td>5.618750</td>\n",
       "      <td>4.929688</td>\n",
       "      <td>37.698880</td>\n",
       "      <td>6.651215</td>\n",
       "      <td>11.280694</td>\n",
       "      <td>0.000000</td>\n",
       "    </tr>\n",
       "    <tr>\n",
       "      <th>50%</th>\n",
       "      <td>543522.000000</td>\n",
       "      <td>554.000000</td>\n",
       "      <td>59.000000</td>\n",
       "      <td>28.190000</td>\n",
       "      <td>19154.190480</td>\n",
       "      <td>700.337500</td>\n",
       "      <td>40.639344</td>\n",
       "      <td>11.039216</td>\n",
       "      <td>12.923944</td>\n",
       "      <td>12.538095</td>\n",
       "      <td>...</td>\n",
       "      <td>12.884000</td>\n",
       "      <td>12.177778</td>\n",
       "      <td>2.747222</td>\n",
       "      <td>27.788235</td>\n",
       "      <td>7.465714</td>\n",
       "      <td>6.847059</td>\n",
       "      <td>39.108249</td>\n",
       "      <td>7.686577</td>\n",
       "      <td>15.589148</td>\n",
       "      <td>1.000000</td>\n",
       "    </tr>\n",
       "    <tr>\n",
       "      <th>75%</th>\n",
       "      <td>772671.750000</td>\n",
       "      <td>846.000000</td>\n",
       "      <td>67.000000</td>\n",
       "      <td>32.920000</td>\n",
       "      <td>30021.278690</td>\n",
       "      <td>1666.515385</td>\n",
       "      <td>42.934783</td>\n",
       "      <td>12.190000</td>\n",
       "      <td>14.019767</td>\n",
       "      <td>14.971053</td>\n",
       "      <td>...</td>\n",
       "      <td>15.555405</td>\n",
       "      <td>16.635556</td>\n",
       "      <td>5.976000</td>\n",
       "      <td>30.709375</td>\n",
       "      <td>10.617442</td>\n",
       "      <td>8.620000</td>\n",
       "      <td>41.136513</td>\n",
       "      <td>8.276922</td>\n",
       "      <td>20.801880</td>\n",
       "      <td>1.000000</td>\n",
       "    </tr>\n",
       "    <tr>\n",
       "      <th>max</th>\n",
       "      <td>999896.000000</td>\n",
       "      <td>999.000000</td>\n",
       "      <td>91.000000</td>\n",
       "      <td>85.000000</td>\n",
       "      <td>71374.131580</td>\n",
       "      <td>21172.000000</td>\n",
       "      <td>54.570000</td>\n",
       "      <td>17.675000</td>\n",
       "      <td>35.300000</td>\n",
       "      <td>62.100000</td>\n",
       "      <td>...</td>\n",
       "      <td>35.155556</td>\n",
       "      <td>38.347826</td>\n",
       "      <td>26.755000</td>\n",
       "      <td>48.020000</td>\n",
       "      <td>27.566102</td>\n",
       "      <td>25.200000</td>\n",
       "      <td>52.237210</td>\n",
       "      <td>11.169408</td>\n",
       "      <td>31.504775</td>\n",
       "      <td>1.000000</td>\n",
       "    </tr>\n",
       "  </tbody>\n",
       "</table>\n",
       "<p>8 rows × 72 columns</p>\n",
       "</div>"
      ],
      "text/plain": [
       "          patient_id  patient_zip3   patient_age          bmi    population  \\\n",
       "count   12906.000000  12906.000000  12906.000000  3941.000000  12905.000000   \n",
       "mean   547381.196033    573.754300     59.183326    28.984539  20744.441237   \n",
       "std    260404.959974    275.447534     13.335216     5.696906  13886.903756   \n",
       "min    100063.000000    101.000000     18.000000    14.000000    635.545455   \n",
       "25%    321517.000000    331.000000     50.000000    24.660000   9463.896552   \n",
       "50%    543522.000000    554.000000     59.000000    28.190000  19154.190480   \n",
       "75%    772671.750000    846.000000     67.000000    32.920000  30021.278690   \n",
       "max    999896.000000    999.000000     91.000000    85.000000  71374.131580   \n",
       "\n",
       "            density    age_median  age_under_10  age_10_to_19       age_20s  \\\n",
       "count  12905.000000  12905.000000  12905.000000  12905.000000  12905.000000   \n",
       "mean    1581.950419     40.502259     11.122784     12.945265     13.290376   \n",
       "std     2966.305306      4.036963      1.512376      1.923974      3.354103   \n",
       "min        0.916667     20.600000      0.000000      6.314286      5.925000   \n",
       "25%      171.857143     37.129825     10.160000     11.741176     11.013415   \n",
       "50%      700.337500     40.639344     11.039216     12.923944     12.538095   \n",
       "75%     1666.515385     42.934783     12.190000     14.019767     14.971053   \n",
       "max    21172.000000     54.570000     17.675000     35.300000     62.100000   \n",
       "\n",
       "       ...      disabled       poverty  limited_english  commute_time  \\\n",
       "count  ...  12905.000000  12902.000000     12902.000000  12905.000000   \n",
       "mean   ...     13.335299     13.406950         4.474956     27.978387   \n",
       "std    ...      3.690949      5.222495         4.837085      5.083939   \n",
       "min    ...      4.600000      3.433333         0.000000     12.460784   \n",
       "25%    ...     10.270492      9.663333         0.994444     24.933333   \n",
       "50%    ...     12.884000     12.177778         2.747222     27.788235   \n",
       "75%    ...     15.555405     16.635556         5.976000     30.709375   \n",
       "max    ...     35.155556     38.347826        26.755000     48.020000   \n",
       "\n",
       "       health_uninsured       veteran         Ozone          PM25  \\\n",
       "count      12905.000000  12905.000000  12877.000000  12877.000000   \n",
       "mean           8.575284      7.083376     39.822352      7.475221   \n",
       "std            4.203482      3.109022      3.559492      1.516499   \n",
       "min            2.440000      1.200000     30.939316      2.636008   \n",
       "25%            5.618750      4.929688     37.698880      6.651215   \n",
       "50%            7.465714      6.847059     39.108249      7.686577   \n",
       "75%           10.617442      8.620000     41.136513      8.276922   \n",
       "max           27.566102     25.200000     52.237210     11.169408   \n",
       "\n",
       "                N02  DiagPeriodL90D  \n",
       "count  12877.000000    12906.000000  \n",
       "mean      16.098988        0.624516  \n",
       "std        5.842501        0.484266  \n",
       "min        2.760371        0.000000  \n",
       "25%       11.280694        0.000000  \n",
       "50%       15.589148        1.000000  \n",
       "75%       20.801880        1.000000  \n",
       "max       31.504775        1.000000  \n",
       "\n",
       "[8 rows x 72 columns]"
      ]
     },
     "execution_count": 4,
     "metadata": {},
     "output_type": "execute_result"
    }
   ],
   "source": [
    "train_df.describe()"
   ]
  },
  {
   "cell_type": "code",
   "execution_count": 5,
   "id": "d8188b22",
   "metadata": {},
   "outputs": [],
   "source": [
    "# pd.set_option('display.max_columns', None)\n",
    "# pd.set_option('display.max_rows', None)"
   ]
  },
  {
   "cell_type": "code",
   "execution_count": 6,
   "id": "df7a4f44",
   "metadata": {},
   "outputs": [
    {
     "data": {
      "text/plain": [
       "CA    1047\n",
       "TX     494\n",
       "NY     471\n",
       "IL     355\n",
       "MI     337\n",
       "OH     308\n",
       "FL     282\n",
       "GA     261\n",
       "PA     231\n",
       "VA     175\n",
       "MN     172\n",
       "CO     166\n",
       "IN     150\n",
       "KY     131\n",
       "AZ     121\n",
       "WI     100\n",
       "NC      99\n",
       "WA      87\n",
       "OK      71\n",
       "LA      70\n",
       "NM      65\n",
       "MO      65\n",
       "SC      57\n",
       "ID      51\n",
       "TN      48\n",
       "AR      34\n",
       "IA      34\n",
       "OR      34\n",
       "MS      33\n",
       "MD      28\n",
       "MT      25\n",
       "NV      25\n",
       "NE      24\n",
       "AL      23\n",
       "KS      20\n",
       "WV      18\n",
       "HI      13\n",
       "UT      12\n",
       "DC       8\n",
       "DE       8\n",
       "NJ       7\n",
       "SD       3\n",
       "ND       3\n",
       "WY       3\n",
       "MA       1\n",
       "AK       1\n",
       "Name: patient_state, dtype: int64"
      ]
     },
     "execution_count": 6,
     "metadata": {},
     "output_type": "execute_result"
    }
   ],
   "source": [
    "test_df.patient_state.value_counts()"
   ]
  },
  {
   "cell_type": "code",
   "execution_count": 7,
   "id": "f2d86c35",
   "metadata": {},
   "outputs": [
    {
     "data": {
      "text/plain": [
       "patient_id           0\n",
       "patient_race      6385\n",
       "payer_type        1803\n",
       "patient_state       51\n",
       "patient_zip3         0\n",
       "                  ... \n",
       "veteran              1\n",
       "Ozone               29\n",
       "PM25                29\n",
       "N02                 29\n",
       "DiagPeriodL90D       0\n",
       "Length: 83, dtype: int64"
      ]
     },
     "execution_count": 7,
     "metadata": {},
     "output_type": "execute_result"
    }
   ],
   "source": [
    "train_df.isnull().sum()"
   ]
  },
  {
   "cell_type": "code",
   "execution_count": 8,
   "id": "85becdc6",
   "metadata": {},
   "outputs": [
    {
     "data": {
      "text/plain": [
       "patient_id             0\n",
       "patient_race        2901\n",
       "payer_type           760\n",
       "patient_state         21\n",
       "patient_zip3           0\n",
       "                    ... \n",
       "health_uninsured       0\n",
       "veteran                0\n",
       "Ozone                 14\n",
       "PM25                  14\n",
       "N02                   14\n",
       "Length: 82, dtype: int64"
      ]
     },
     "execution_count": 8,
     "metadata": {},
     "output_type": "execute_result"
    }
   ],
   "source": [
    "test_df.isnull().sum()"
   ]
  },
  {
   "cell_type": "code",
   "execution_count": 9,
   "id": "ad0e5a2c",
   "metadata": {},
   "outputs": [
    {
     "data": {
      "text/plain": [
       "White       3588\n",
       "Black       1056\n",
       "Hispanic     829\n",
       "Other        683\n",
       "Asian        365\n",
       "Name: patient_race, dtype: int64"
      ]
     },
     "execution_count": 9,
     "metadata": {},
     "output_type": "execute_result"
    }
   ],
   "source": [
    "train_df.patient_race.value_counts()"
   ]
  },
  {
   "cell_type": "code",
   "execution_count": 10,
   "id": "f015c1a7",
   "metadata": {},
   "outputs": [],
   "source": [
    "train_df['patient_race'].fillna('not_given', inplace=True)\n",
    "test_df['patient_race'].fillna('not_given', inplace=True)"
   ]
  },
  {
   "cell_type": "code",
   "execution_count": 11,
   "id": "7c9aad32",
   "metadata": {},
   "outputs": [
    {
     "data": {
      "text/plain": [
       "COMMERCIAL            6032\n",
       "MEDICAID              2569\n",
       "MEDICARE ADVANTAGE    2502\n",
       "Name: payer_type, dtype: int64"
      ]
     },
     "execution_count": 11,
     "metadata": {},
     "output_type": "execute_result"
    }
   ],
   "source": [
    "train_df['payer_type'].value_counts()"
   ]
  },
  {
   "cell_type": "code",
   "execution_count": 12,
   "id": "93c07300",
   "metadata": {},
   "outputs": [],
   "source": [
    "train_df['payer_type'].fillna('none_given', inplace=True)\n",
    "test_df['payer_type'].fillna('none_given', inplace=True)\n",
    "\n",
    "train_df['Region'].fillna('none_given', inplace=True)\n",
    "test_df['Region'].fillna('none_given', inplace=True)\n",
    "\n",
    "train_df['Division'].fillna('none_given', inplace=True)\n",
    "test_df['Division'].fillna('none_given', inplace=True)"
   ]
  },
  {
   "cell_type": "code",
   "execution_count": 13,
   "id": "6d69d56b",
   "metadata": {},
   "outputs": [
    {
     "data": {
      "text/plain": [
       "CA    2438\n",
       "TX    1155\n",
       "NY    1041\n",
       "MI     858\n",
       "IL     782\n",
       "OH     754\n",
       "FL     609\n",
       "GA     551\n",
       "PA     483\n",
       "MN     377\n",
       "CO     371\n",
       "VA     365\n",
       "IN     317\n",
       "KY     259\n",
       "AZ     229\n",
       "WI     212\n",
       "WA     200\n",
       "NC     186\n",
       "MO     160\n",
       "NM     141\n",
       "LA     139\n",
       "TN     112\n",
       "SC     110\n",
       "ID      93\n",
       "OK      93\n",
       "OR      89\n",
       "IA      86\n",
       "MS      76\n",
       "MD      71\n",
       "AR      63\n",
       "NV      62\n",
       "KS      50\n",
       "AL      50\n",
       "MT      45\n",
       "NE      40\n",
       "UT      36\n",
       "DE      33\n",
       "WV      27\n",
       "HI      21\n",
       "NJ      21\n",
       "DC      20\n",
       "SD       8\n",
       "ND       6\n",
       "AK       6\n",
       "WY       4\n",
       "CT       2\n",
       "PR       1\n",
       "RI       1\n",
       "NH       1\n",
       "MA       1\n",
       "Name: patient_state, dtype: int64"
      ]
     },
     "execution_count": 13,
     "metadata": {},
     "output_type": "execute_result"
    }
   ],
   "source": [
    "train_df['patient_state'].value_counts()"
   ]
  },
  {
   "cell_type": "code",
   "execution_count": 14,
   "id": "92987e47",
   "metadata": {},
   "outputs": [],
   "source": [
    "max_state = train_df['patient_state'].mode()[0]\n",
    "train_df['patient_state'].fillna(max_state, inplace=True)\n",
    "\n",
    "max_state = test_df['patient_state'].mode()[0]\n",
    "test_df['patient_state'].fillna(max_state, inplace=True)"
   ]
  },
  {
   "cell_type": "code",
   "execution_count": 15,
   "id": "acf639c1",
   "metadata": {},
   "outputs": [],
   "source": [
    "median_bmi = train_df['bmi'].median()\n",
    "train_df['bmi'].fillna(median_bmi, inplace=True)\n",
    "\n",
    "median_bmi = test_df['bmi'].median()\n",
    "test_df['bmi'].fillna(median_bmi, inplace=True)"
   ]
  },
  {
   "cell_type": "code",
   "execution_count": 16,
   "id": "96d1cc16",
   "metadata": {},
   "outputs": [
    {
     "name": "stderr",
     "output_type": "stream",
     "text": [
      "/tmp/ipykernel_7640/1211048938.py:1: FutureWarning: The default value of numeric_only in DataFrame.median is deprecated. In a future version, it will default to False. In addition, specifying 'numeric_only=None' is deprecated. Select only valid columns or specify the value of numeric_only to silence this warning.\n",
      "  medians = train_df.median()\n",
      "/tmp/ipykernel_7640/1211048938.py:4: FutureWarning: The default value of numeric_only in DataFrame.median is deprecated. In a future version, it will default to False. In addition, specifying 'numeric_only=None' is deprecated. Select only valid columns or specify the value of numeric_only to silence this warning.\n",
      "  medians = train_df.median()\n"
     ]
    }
   ],
   "source": [
    "medians = train_df.median()\n",
    "train_df.fillna(medians, inplace=True)\n",
    "\n",
    "medians = train_df.median()\n",
    "test_df.fillna(medians, inplace=True)"
   ]
  },
  {
   "cell_type": "code",
   "execution_count": 17,
   "id": "762344cb",
   "metadata": {},
   "outputs": [
    {
     "data": {
      "text/plain": [
       "PEMBROLIZUMAB    13\n",
       "OLAPARIB         11\n",
       "Name: metastatic_first_novel_treatment, dtype: int64"
      ]
     },
     "execution_count": 17,
     "metadata": {},
     "output_type": "execute_result"
    }
   ],
   "source": [
    "train_df['metastatic_first_novel_treatment'].value_counts()"
   ]
  },
  {
   "cell_type": "code",
   "execution_count": 18,
   "id": "7d110b1f",
   "metadata": {},
   "outputs": [
    {
     "data": {
      "text/plain": [
       "Antineoplastics    24\n",
       "Name: metastatic_first_novel_treatment_type, dtype: int64"
      ]
     },
     "execution_count": 18,
     "metadata": {},
     "output_type": "execute_result"
    }
   ],
   "source": [
    "train_df['metastatic_first_novel_treatment_type'].value_counts()"
   ]
  },
  {
   "cell_type": "code",
   "execution_count": 19,
   "id": "092980ca",
   "metadata": {},
   "outputs": [
    {
     "data": {
      "text/plain": [
       "1    8060\n",
       "0    4846\n",
       "Name: DiagPeriodL90D, dtype: int64"
      ]
     },
     "execution_count": 19,
     "metadata": {},
     "output_type": "execute_result"
    }
   ],
   "source": [
    "train_df['DiagPeriodL90D'].value_counts()"
   ]
  },
  {
   "cell_type": "code",
   "execution_count": 20,
   "id": "9b71b5b3",
   "metadata": {},
   "outputs": [],
   "source": [
    "train_df.drop(columns=['patient_gender'], inplace=True)\n",
    "test_df.drop(columns=['patient_gender'], inplace=True)"
   ]
  },
  {
   "cell_type": "code",
   "execution_count": 21,
   "id": "886b56b3",
   "metadata": {},
   "outputs": [
    {
     "data": {
      "image/png": "[encoded data removed]",
      "text/plain": [
       "<Figure size 700x600 with 1 Axes>"
      ]
     },
     "metadata": {},
     "output_type": "display_data"
    }
   ],
   "source": [
    "race = train_df['patient_race'].value_counts()\n",
    "plt.figure(figsize=(7, 6))\n",
    "ax = race.plot(kind='bar', rot=0, color='c')\n",
    "ax.set_title('Race Distribution')\n",
    "ax.set_xlabel('Race')\n",
    "ax.set_ylabel('Count')\n",
    "for rect in ax.patches:\n",
    "    y_value = rect.get_height()\n",
    "    x_value = rect.get_x() + rect.get_width()\n",
    "    space = 1\n",
    "    label = format(y_value)\n",
    "    ax.annotate(label, (x_value, y_value))\n",
    "    \n",
    "plt.show()"
   ]
  },
  {
   "cell_type": "code",
   "execution_count": 22,
   "id": "56d6f532",
   "metadata": {},
   "outputs": [
    {
     "data": {
      "image/png": "[encoded data removed]",
      "text/plain": [
       "<Figure size 1000x600 with 1 Axes>"
      ]
     },
     "metadata": {},
     "output_type": "display_data"
    }
   ],
   "source": [
    "plt.figure(figsize=(10, 6))\n",
    "sns.countplot(x='patient_race', hue='DiagPeriodL90D', data=train_df)\n",
    "plt.title('Relationship between Patient Race and Diagnosis')\n",
    "plt.show()"
   ]
  },
  {
   "cell_type": "code",
   "execution_count": 23,
   "id": "1eaa3a5d",
   "metadata": {},
   "outputs": [
    {
     "data": {
      "image/png": "[encoded data removed]",
      "text/plain": [
       "<Figure size 1000x600 with 1 Axes>"
      ]
     },
     "metadata": {},
     "output_type": "display_data"
    }
   ],
   "source": [
    "plt.figure(figsize=(10, 6))\n",
    "sns.boxplot(x='DiagPeriodL90D', y='bmi', data=train_df, palette='viridis')\n",
    "plt.title('Relationship between BMI and Diagnosis')\n",
    "plt.xlabel('Diagnosis')\n",
    "plt.ylabel('BMI')\n",
    "plt.show()"
   ]
  },
  {
   "cell_type": "code",
   "execution_count": 24,
   "id": "ab9074e4",
   "metadata": {},
   "outputs": [
    {
     "data": {
      "text/plain": [
       "patient_id          int64\n",
       "patient_race       object\n",
       "payer_type         object\n",
       "patient_state      object\n",
       "patient_zip3        int64\n",
       "                   ...   \n",
       "veteran           float64\n",
       "Ozone             float64\n",
       "PM25              float64\n",
       "N02               float64\n",
       "DiagPeriodL90D      int64\n",
       "Length: 82, dtype: object"
      ]
     },
     "execution_count": 24,
     "metadata": {},
     "output_type": "execute_result"
    }
   ],
   "source": [
    "train_df.dtypes"
   ]
  },
  {
   "cell_type": "code",
   "execution_count": 25,
   "id": "8bb8ef42",
   "metadata": {},
   "outputs": [
    {
     "data": {
      "text/plain": [
       "Antineoplastics    24\n",
       "Name: metastatic_first_novel_treatment_type, dtype: int64"
      ]
     },
     "execution_count": 25,
     "metadata": {},
     "output_type": "execute_result"
    }
   ],
   "source": [
    "train_df['metastatic_first_novel_treatment_type'].value_counts()"
   ]
  },
  {
   "cell_type": "code",
   "execution_count": 26,
   "id": "b1497b30",
   "metadata": {},
   "outputs": [],
   "source": [
    "import spacy\n",
    "\n",
    "nlp = spacy.load('en_core_web_lg')"
   ]
  },
  {
   "cell_type": "code",
   "execution_count": 27,
   "id": "0334b3ed",
   "metadata": {},
   "outputs": [],
   "source": [
    "train_df['breast_cancer_diagnosis_desc'] = train_df['breast_cancer_diagnosis_desc'].apply(lambda x: nlp(x).vector)"
   ]
  },
  {
   "cell_type": "code",
   "execution_count": 28,
   "id": "f9decf9e",
   "metadata": {},
   "outputs": [],
   "source": [
    "test_df['breast_cancer_diagnosis_desc'] = test_df['breast_cancer_diagnosis_desc'].apply(lambda x: nlp(x).vector)"
   ]
  },
  {
   "cell_type": "code",
   "execution_count": 29,
   "id": "727b1ab5",
   "metadata": {},
   "outputs": [
    {
     "data": {
      "text/plain": [
       "0        [-2.1857245, -1.499248, -0.06484781, 0.8663789...\n",
       "1        [-3.1930542, 0.059765514, -1.285679, 3.0578089...\n",
       "2        [-3.2976353, -0.5322255, -1.5312644, 1.9199702...\n",
       "3        [-2.7909133, 0.33778822, -1.4030054, 3.0241168...\n",
       "4        [-3.7947798, -2.8656478, 2.047403, 1.2504234, ...\n",
       "                               ...                        \n",
       "12901    [-3.1930542, 0.059765514, -1.285679, 3.0578089...\n",
       "12902    [-1.9969578, -0.90365875, -0.08969781, 1.02054...\n",
       "12903    [-1.9969578, -0.90365875, -0.08969781, 1.02054...\n",
       "12904    [-3.7947798, -2.8656478, 2.047403, 1.2504234, ...\n",
       "12905    [-3.1247225, 0.27641553, -1.0901781, 3.0718443...\n",
       "Name: breast_cancer_diagnosis_desc, Length: 12906, dtype: object"
      ]
     },
     "execution_count": 29,
     "metadata": {},
     "output_type": "execute_result"
    }
   ],
   "source": [
    "train_df['breast_cancer_diagnosis_desc']"
   ]
  },
  {
   "cell_type": "code",
   "execution_count": 30,
   "id": "0742cbbc",
   "metadata": {},
   "outputs": [],
   "source": [
    "# train_df.drop(columns=['breast_cancer_diagnosis_desc', 'breast_cancer_diagnosis_code', 'metastatic_cancer_diagnosis_code', 'metastatic_first_novel_treatment', 'metastatic_first_novel_treatment_type', 'patient_zip3'], inplace=True)\n",
    "# test_df.drop(columns=['breast_cancer_diagnosis_desc', 'breast_cancer_diagnosis_code', 'metastatic_cancer_diagnosis_code', 'metastatic_first_novel_treatment', 'metastatic_first_novel_treatment_type', 'patient_zip3'], inplace=True)"
   ]
  },
  {
   "cell_type": "code",
   "execution_count": 31,
   "id": "f725f856",
   "metadata": {},
   "outputs": [],
   "source": [
    "train_df.drop(columns=['breast_cancer_diagnosis_code', 'metastatic_cancer_diagnosis_code', 'metastatic_first_novel_treatment', 'metastatic_first_novel_treatment_type', 'patient_zip3'], inplace=True)\n",
    "test_df.drop(columns=['breast_cancer_diagnosis_code', 'metastatic_cancer_diagnosis_code', 'metastatic_first_novel_treatment', 'metastatic_first_novel_treatment_type', 'patient_zip3'], inplace=True)"
   ]
  },
  {
   "cell_type": "code",
   "execution_count": 32,
   "id": "fd0f3b60",
   "metadata": {},
   "outputs": [
    {
     "data": {
      "text/plain": [
       "East North Central    2923\n",
       "Pacific               2754\n",
       "South Atlantic        1972\n",
       "Middle Atlantic       1545\n",
       "West South Central    1450\n",
       "Mountain               981\n",
       "West North Central     727\n",
       "East South Central     497\n",
       "none_given              52\n",
       "New England              5\n",
       "Name: Division, dtype: int64"
      ]
     },
     "execution_count": 32,
     "metadata": {},
     "output_type": "execute_result"
    }
   ],
   "source": [
    "train_df['Division'].value_counts()"
   ]
  },
  {
   "cell_type": "code",
   "execution_count": 33,
   "id": "cadf988a",
   "metadata": {},
   "outputs": [],
   "source": [
    "train_df = pd.concat([train_df, pd.get_dummies(train_df['patient_race'], prefix='patient_race')], axis=1)\n",
    "train_df.drop(columns=['patient_race'], inplace=True)"
   ]
  },
  {
   "cell_type": "code",
   "execution_count": 34,
   "id": "4bcc8a37",
   "metadata": {},
   "outputs": [],
   "source": [
    "test_df = pd.concat([test_df, pd.get_dummies(test_df['patient_race'], prefix='patient_race')], axis=1)\n",
    "test_df.drop(columns=['patient_race'], inplace=True)"
   ]
  },
  {
   "cell_type": "code",
   "execution_count": 35,
   "id": "0a74af83",
   "metadata": {},
   "outputs": [],
   "source": [
    "train_df = pd.concat([train_df, pd.get_dummies(train_df['payer_type'], prefix='payer_type')], axis=1)\n",
    "train_df.drop(columns=['payer_type'], inplace=True)\n",
    "\n",
    "test_df = pd.concat([test_df, pd.get_dummies(test_df['payer_type'], prefix='payer_type')], axis=1)\n",
    "test_df.drop(columns=['payer_type'], inplace=True)\n",
    "\n",
    "train_df = pd.concat([train_df, pd.get_dummies(train_df['patient_state'], prefix='patient_state')], axis=1)\n",
    "train_df.drop(columns=['patient_state'], inplace=True)\n",
    "\n",
    "test_df = pd.concat([test_df, pd.get_dummies(test_df['patient_state'], prefix='patient_state')], axis=1)\n",
    "test_df.drop(columns=['patient_state'], inplace=True)\n",
    "\n",
    "train_df = pd.concat([train_df, pd.get_dummies(train_df['Division'], prefix='Division')], axis=1)\n",
    "train_df.drop(columns=['Division'], inplace=True)\n",
    "\n",
    "test_df = pd.concat([test_df, pd.get_dummies(test_df['Division'], prefix='Division')], axis=1)\n",
    "test_df.drop(columns=['Division'], inplace=True)\n",
    "\n",
    "train_df = pd.concat([train_df, pd.get_dummies(train_df['Region'], prefix='Region')], axis=1)\n",
    "train_df.drop(columns=['Region'], inplace=True)\n",
    "\n",
    "test_df = pd.concat([test_df, pd.get_dummies(test_df['Region'], prefix='Region')], axis=1)\n",
    "test_df.drop(columns=['Region'], inplace=True)"
   ]
  },
  {
   "cell_type": "code",
   "execution_count": 36,
   "id": "2a0fef8c",
   "metadata": {},
   "outputs": [],
   "source": [
    "train_df = train_df.drop(columns=['patient_state_CT', 'patient_state_NH', 'patient_state_PR', 'patient_state_RI'])"
   ]
  },
  {
   "cell_type": "code",
   "execution_count": 37,
   "id": "0c0188ce",
   "metadata": {},
   "outputs": [],
   "source": [
    "train_df['breast_cancer_diagnosis_desc'] = np.stack(train_df['breast_cancer_diagnosis_desc'])\n",
    "test_df['breast_cancer_diagnosis_desc'] = np.stack(test_df['breast_cancer_diagnosis_desc'])"
   ]
  },
  {
   "cell_type": "code",
   "execution_count": 38,
   "id": "692d6843",
   "metadata": {},
   "outputs": [],
   "source": [
    "from sklearn.preprocessing import MinMaxScaler\n",
    "\n",
    "scaler = MinMaxScaler()\n",
    "\n",
    "X_train_desc = np.vstack(train_df['breast_cancer_diagnosis_desc'])\n",
    "\n",
    "# Fit and transform the scaler on the reshaped data\n",
    "train_df['breast_cancer_diagnosis_desc'] = scaler.fit_transform(X_train_desc)\n",
    "\n",
    "# Now, similarly transform the test data\n",
    "# Assuming test_df is your test DataFrame\n",
    "X_test_desc = np.vstack(test_df['breast_cancer_diagnosis_desc'])\n",
    "test_df['breast_cancer_diagnosis_desc'] = scaler.transform(X_test_desc)"
   ]
  },
  {
   "cell_type": "code",
   "execution_count": 39,
   "id": "e18d5184",
   "metadata": {},
   "outputs": [],
   "source": [
    "y = train_df['DiagPeriodL90D']\n",
    "X = train_df.drop(columns =['DiagPeriodL90D'])\n",
    "\n",
    "from sklearn.model_selection import train_test_split\n",
    "X_train, X_test, y_train, y_test = train_test_split(X, y, test_size=0.3, random_state=42, shuffle=False)"
   ]
  },
  {
   "cell_type": "code",
   "execution_count": 40,
   "id": "36cf623e",
   "metadata": {},
   "outputs": [],
   "source": [
    "X_test_patient_id = X_test['patient_id']\n",
    "X_train.drop(columns=['patient_id'], inplace=True)\n",
    "X_test.drop(columns=['patient_id'], inplace=True)"
   ]
  },
  {
   "cell_type": "code",
   "execution_count": 41,
   "id": "e6a3a376",
   "metadata": {},
   "outputs": [
    {
     "data": {
      "text/html": [
       "<style>#sk-container-id-1 {color: black;}#sk-container-id-1 pre{padding: 0;}#sk-container-id-1 div.sk-toggleable {background-color: white;}#sk-container-id-1 label.sk-toggleable__label {cursor: pointer;display: block;width: 100%;margin-bottom: 0;padding: 0.3em;box-sizing: border-box;text-align: center;}#sk-container-id-1 label.sk-toggleable__label-arrow:before {content: \"▸\";float: left;margin-right: 0.25em;color: #696969;}#sk-container-id-1 label.sk-toggleable__label-arrow:hover:before {color: black;}#sk-container-id-1 div.sk-estimator:hover label.sk-toggleable__label-arrow:before {color: black;}#sk-container-id-1 div.sk-toggleable__content {max-height: 0;max-width: 0;overflow: hidden;text-align: left;background-color: #f0f8ff;}#sk-container-id-1 div.sk-toggleable__content pre {margin: 0.2em;color: black;border-radius: 0.25em;background-color: #f0f8ff;}#sk-container-id-1 input.sk-toggleable__control:checked~div.sk-toggleable__content {max-height: 200px;max-width: 100%;overflow: auto;}#sk-container-id-1 input.sk-toggleable__control:checked~label.sk-toggleable__label-arrow:before {content: \"▾\";}#sk-container-id-1 div.sk-estimator input.sk-toggleable__control:checked~label.sk-toggleable__label {background-color: #d4ebff;}#sk-container-id-1 div.sk-label input.sk-toggleable__control:checked~label.sk-toggleable__label {background-color: #d4ebff;}#sk-container-id-1 input.sk-hidden--visually {border: 0;clip: rect(1px 1px 1px 1px);clip: rect(1px, 1px, 1px, 1px);height: 1px;margin: -1px;overflow: hidden;padding: 0;position: absolute;width: 1px;}#sk-container-id-1 div.sk-estimator {font-family: monospace;background-color: #f0f8ff;border: 1px dotted black;border-radius: 0.25em;box-sizing: border-box;margin-bottom: 0.5em;}#sk-container-id-1 div.sk-estimator:hover {background-color: #d4ebff;}#sk-container-id-1 div.sk-parallel-item::after {content: \"\";width: 100%;border-bottom: 1px solid gray;flex-grow: 1;}#sk-container-id-1 div.sk-label:hover label.sk-toggleable__label {background-color: #d4ebff;}#sk-container-id-1 div.sk-serial::before {content: \"\";position: absolute;border-left: 1px solid gray;box-sizing: border-box;top: 0;bottom: 0;left: 50%;z-index: 0;}#sk-container-id-1 div.sk-serial {display: flex;flex-direction: column;align-items: center;background-color: white;padding-right: 0.2em;padding-left: 0.2em;position: relative;}#sk-container-id-1 div.sk-item {position: relative;z-index: 1;}#sk-container-id-1 div.sk-parallel {display: flex;align-items: stretch;justify-content: center;background-color: white;position: relative;}#sk-container-id-1 div.sk-item::before, #sk-container-id-1 div.sk-parallel-item::before {content: \"\";position: absolute;border-left: 1px solid gray;box-sizing: border-box;top: 0;bottom: 0;left: 50%;z-index: -1;}#sk-container-id-1 div.sk-parallel-item {display: flex;flex-direction: column;z-index: 1;position: relative;background-color: white;}#sk-container-id-1 div.sk-parallel-item:first-child::after {align-self: flex-end;width: 50%;}#sk-container-id-1 div.sk-parallel-item:last-child::after {align-self: flex-start;width: 50%;}#sk-container-id-1 div.sk-parallel-item:only-child::after {width: 0;}#sk-container-id-1 div.sk-dashed-wrapped {border: 1px dashed gray;margin: 0 0.4em 0.5em 0.4em;box-sizing: border-box;padding-bottom: 0.4em;background-color: white;}#sk-container-id-1 div.sk-label label {font-family: monospace;font-weight: bold;display: inline-block;line-height: 1.2em;}#sk-container-id-1 div.sk-label-container {text-align: center;}#sk-container-id-1 div.sk-container {/* jupyter's `normalize.less` sets `[hidden] { display: none; }` but bootstrap.min.css set `[hidden] { display: none !important; }` so we also need the `!important` here to be able to override the default hidden behavior on the sphinx rendered scikit-learn.org. See: https://github.com/scikit-learn/scikit-learn/issues/21755 */display: inline-block !important;position: relative;}#sk-container-id-1 div.sk-text-repr-fallback {display: none;}</style><div id=\"sk-container-id-1\" class=\"sk-top-container\"><div class=\"sk-text-repr-fallback\"><pre>MultinomialNB()</pre><b>In a Jupyter environment, please rerun this cell to show the HTML representation or trust the notebook. <br />On GitHub, the HTML representation is unable to render, please try loading this page with nbviewer.org.</b></div><div class=\"sk-container\" hidden><div class=\"sk-item\"><div class=\"sk-estimator sk-toggleable\"><input class=\"sk-toggleable__control sk-hidden--visually\" id=\"sk-estimator-id-1\" type=\"checkbox\" checked><label for=\"sk-estimator-id-1\" class=\"sk-toggleable__label sk-toggleable__label-arrow\">MultinomialNB</label><div class=\"sk-toggleable__content\"><pre>MultinomialNB()</pre></div></div></div></div></div>"
      ],
      "text/plain": [
       "MultinomialNB()"
      ]
     },
     "execution_count": 41,
     "metadata": {},
     "output_type": "execute_result"
    }
   ],
   "source": [
    "from sklearn.naive_bayes import MultinomialNB\n",
    "from sklearn.metrics import classification_report\n",
    "\n",
    "clf = MultinomialNB()\n",
    "clf.fit(X_train, y_train)"
   ]
  },
  {
   "cell_type": "code",
   "execution_count": 42,
   "id": "3b0b75dc",
   "metadata": {},
   "outputs": [
    {
     "name": "stdout",
     "output_type": "stream",
     "text": [
      "              precision    recall  f1-score   support\n",
      "\n",
      "           0       0.38      0.70      0.50      1440\n",
      "           1       0.66      0.34      0.45      2432\n",
      "\n",
      "    accuracy                           0.47      3872\n",
      "   macro avg       0.52      0.52      0.47      3872\n",
      "weighted avg       0.55      0.47      0.47      3872\n",
      "\n"
     ]
    }
   ],
   "source": [
    "y_pred = clf.predict(X_test)\n",
    "\n",
    "print(classification_report(y_test, y_pred))"
   ]
  },
  {
   "cell_type": "code",
   "execution_count": 43,
   "id": "ff6f4e20",
   "metadata": {},
   "outputs": [
    {
     "data": {
      "image/png": "[encoded data removed]",
      "text/plain": [
       "<Figure size 800x800 with 1 Axes>"
      ]
     },
     "metadata": {},
     "output_type": "display_data"
    }
   ],
   "source": [
    "from sklearn.metrics import roc_curve, roc_auc_score\n",
    "\n",
    "# Calculate ROC curve\n",
    "fpr, tpr, thresholds = roc_curve(y_test, y_pred)\n",
    "\n",
    "# Calculate AUC\n",
    "roc_auc = roc_auc_score(y_test, y_pred)\n",
    "\n",
    "# Plot ROC curve\n",
    "plt.figure(figsize=(8, 8))\n",
    "plt.plot(fpr, tpr, color='darkorange', lw=2, label=f'AUC = {roc_auc:.2f}')\n",
    "plt.plot([0, 1], [0, 1], color='navy', lw=2, linestyle='--')\n",
    "plt.xlabel('False Positive Rate')\n",
    "plt.ylabel('True Positive Rate')\n",
    "plt.title('Receiver Operating Characteristic (ROC) Curve')\n",
    "plt.legend(loc='lower right')\n",
    "plt.show()\n"
   ]
  },
  {
   "cell_type": "code",
   "execution_count": 53,
   "id": "569a3d66",
   "metadata": {},
   "outputs": [
    {
     "data": {
      "text/html": [
       "<style>#sk-container-id-6 {color: black;}#sk-container-id-6 pre{padding: 0;}#sk-container-id-6 div.sk-toggleable {background-color: white;}#sk-container-id-6 label.sk-toggleable__label {cursor: pointer;display: block;width: 100%;margin-bottom: 0;padding: 0.3em;box-sizing: border-box;text-align: center;}#sk-container-id-6 label.sk-toggleable__label-arrow:before {content: \"▸\";float: left;margin-right: 0.25em;color: #696969;}#sk-container-id-6 label.sk-toggleable__label-arrow:hover:before {color: black;}#sk-container-id-6 div.sk-estimator:hover label.sk-toggleable__label-arrow:before {color: black;}#sk-container-id-6 div.sk-toggleable__content {max-height: 0;max-width: 0;overflow: hidden;text-align: left;background-color: #f0f8ff;}#sk-container-id-6 div.sk-toggleable__content pre {margin: 0.2em;color: black;border-radius: 0.25em;background-color: #f0f8ff;}#sk-container-id-6 input.sk-toggleable__control:checked~div.sk-toggleable__content {max-height: 200px;max-width: 100%;overflow: auto;}#sk-container-id-6 input.sk-toggleable__control:checked~label.sk-toggleable__label-arrow:before {content: \"▾\";}#sk-container-id-6 div.sk-estimator input.sk-toggleable__control:checked~label.sk-toggleable__label {background-color: #d4ebff;}#sk-container-id-6 div.sk-label input.sk-toggleable__control:checked~label.sk-toggleable__label {background-color: #d4ebff;}#sk-container-id-6 input.sk-hidden--visually {border: 0;clip: rect(1px 1px 1px 1px);clip: rect(1px, 1px, 1px, 1px);height: 1px;margin: -1px;overflow: hidden;padding: 0;position: absolute;width: 1px;}#sk-container-id-6 div.sk-estimator {font-family: monospace;background-color: #f0f8ff;border: 1px dotted black;border-radius: 0.25em;box-sizing: border-box;margin-bottom: 0.5em;}#sk-container-id-6 div.sk-estimator:hover {background-color: #d4ebff;}#sk-container-id-6 div.sk-parallel-item::after {content: \"\";width: 100%;border-bottom: 1px solid gray;flex-grow: 1;}#sk-container-id-6 div.sk-label:hover label.sk-toggleable__label {background-color: #d4ebff;}#sk-container-id-6 div.sk-serial::before {content: \"\";position: absolute;border-left: 1px solid gray;box-sizing: border-box;top: 0;bottom: 0;left: 50%;z-index: 0;}#sk-container-id-6 div.sk-serial {display: flex;flex-direction: column;align-items: center;background-color: white;padding-right: 0.2em;padding-left: 0.2em;position: relative;}#sk-container-id-6 div.sk-item {position: relative;z-index: 1;}#sk-container-id-6 div.sk-parallel {display: flex;align-items: stretch;justify-content: center;background-color: white;position: relative;}#sk-container-id-6 div.sk-item::before, #sk-container-id-6 div.sk-parallel-item::before {content: \"\";position: absolute;border-left: 1px solid gray;box-sizing: border-box;top: 0;bottom: 0;left: 50%;z-index: -1;}#sk-container-id-6 div.sk-parallel-item {display: flex;flex-direction: column;z-index: 1;position: relative;background-color: white;}#sk-container-id-6 div.sk-parallel-item:first-child::after {align-self: flex-end;width: 50%;}#sk-container-id-6 div.sk-parallel-item:last-child::after {align-self: flex-start;width: 50%;}#sk-container-id-6 div.sk-parallel-item:only-child::after {width: 0;}#sk-container-id-6 div.sk-dashed-wrapped {border: 1px dashed gray;margin: 0 0.4em 0.5em 0.4em;box-sizing: border-box;padding-bottom: 0.4em;background-color: white;}#sk-container-id-6 div.sk-label label {font-family: monospace;font-weight: bold;display: inline-block;line-height: 1.2em;}#sk-container-id-6 div.sk-label-container {text-align: center;}#sk-container-id-6 div.sk-container {/* jupyter's `normalize.less` sets `[hidden] { display: none; }` but bootstrap.min.css set `[hidden] { display: none !important; }` so we also need the `!important` here to be able to override the default hidden behavior on the sphinx rendered scikit-learn.org. See: https://github.com/scikit-learn/scikit-learn/issues/21755 */display: inline-block !important;position: relative;}#sk-container-id-6 div.sk-text-repr-fallback {display: none;}</style><div id=\"sk-container-id-6\" class=\"sk-top-container\"><div class=\"sk-text-repr-fallback\"><pre>RandomForestClassifier(max_depth=5)</pre><b>In a Jupyter environment, please rerun this cell to show the HTML representation or trust the notebook. <br />On GitHub, the HTML representation is unable to render, please try loading this page with nbviewer.org.</b></div><div class=\"sk-container\" hidden><div class=\"sk-item\"><div class=\"sk-estimator sk-toggleable\"><input class=\"sk-toggleable__control sk-hidden--visually\" id=\"sk-estimator-id-6\" type=\"checkbox\" checked><label for=\"sk-estimator-id-6\" class=\"sk-toggleable__label sk-toggleable__label-arrow\">RandomForestClassifier</label><div class=\"sk-toggleable__content\"><pre>RandomForestClassifier(max_depth=5)</pre></div></div></div></div></div>"
      ],
      "text/plain": [
       "RandomForestClassifier(max_depth=5)"
      ]
     },
     "execution_count": 53,
     "metadata": {},
     "output_type": "execute_result"
    }
   ],
   "source": [
    "from sklearn.ensemble import RandomForestClassifier\n",
    "clf = RandomForestClassifier(max_depth=5)\n",
    "clf.fit(X_train, y_train)"
   ]
  },
  {
   "cell_type": "code",
   "execution_count": 54,
   "id": "80e2b9a2",
   "metadata": {},
   "outputs": [
    {
     "name": "stdout",
     "output_type": "stream",
     "text": [
      "              precision    recall  f1-score   support\n",
      "\n",
      "           0       0.92      0.45      0.60      1440\n",
      "           1       0.75      0.98      0.85      2432\n",
      "\n",
      "    accuracy                           0.78      3872\n",
      "   macro avg       0.83      0.71      0.72      3872\n",
      "weighted avg       0.81      0.78      0.76      3872\n",
      "\n"
     ]
    }
   ],
   "source": [
    "y_pred = clf.predict(X_test)\n",
    "\n",
    "print(classification_report(y_test, y_pred))"
   ]
  },
  {
   "cell_type": "code",
   "execution_count": 55,
   "id": "6ca55539",
   "metadata": {},
   "outputs": [
    {
     "data": {
      "image/png": "[encoded data removed]",
      "text/plain": [
       "<Figure size 800x800 with 1 Axes>"
      ]
     },
     "metadata": {},
     "output_type": "display_data"
    }
   ],
   "source": [
    "fpr, tpr, thresholds = roc_curve(y_test, y_pred)\n",
    "\n",
    "# Calculate AUC\n",
    "roc_auc = roc_auc_score(y_test, y_pred)\n",
    "\n",
    "# Plot ROC curve\n",
    "plt.figure(figsize=(8, 8))\n",
    "plt.plot(fpr, tpr, color='darkorange', lw=2, label=f'AUC = {roc_auc:.2f}')\n",
    "plt.plot([0, 1], [0, 1], color='navy', lw=2, linestyle='--')\n",
    "plt.xlabel('False Positive Rate')\n",
    "plt.ylabel('True Positive Rate')\n",
    "plt.title('Receiver Operating Characteristic (ROC) Curve')\n",
    "plt.legend(loc='lower right')\n",
    "plt.show()"
   ]
  },
  {
   "cell_type": "code",
   "execution_count": 56,
   "id": "73fd8f2d",
   "metadata": {},
   "outputs": [
    {
     "data": {
      "text/html": [
       "<style>#sk-container-id-7 {color: black;}#sk-container-id-7 pre{padding: 0;}#sk-container-id-7 div.sk-toggleable {background-color: white;}#sk-container-id-7 label.sk-toggleable__label {cursor: pointer;display: block;width: 100%;margin-bottom: 0;padding: 0.3em;box-sizing: border-box;text-align: center;}#sk-container-id-7 label.sk-toggleable__label-arrow:before {content: \"▸\";float: left;margin-right: 0.25em;color: #696969;}#sk-container-id-7 label.sk-toggleable__label-arrow:hover:before {color: black;}#sk-container-id-7 div.sk-estimator:hover label.sk-toggleable__label-arrow:before {color: black;}#sk-container-id-7 div.sk-toggleable__content {max-height: 0;max-width: 0;overflow: hidden;text-align: left;background-color: #f0f8ff;}#sk-container-id-7 div.sk-toggleable__content pre {margin: 0.2em;color: black;border-radius: 0.25em;background-color: #f0f8ff;}#sk-container-id-7 input.sk-toggleable__control:checked~div.sk-toggleable__content {max-height: 200px;max-width: 100%;overflow: auto;}#sk-container-id-7 input.sk-toggleable__control:checked~label.sk-toggleable__label-arrow:before {content: \"▾\";}#sk-container-id-7 div.sk-estimator input.sk-toggleable__control:checked~label.sk-toggleable__label {background-color: #d4ebff;}#sk-container-id-7 div.sk-label input.sk-toggleable__control:checked~label.sk-toggleable__label {background-color: #d4ebff;}#sk-container-id-7 input.sk-hidden--visually {border: 0;clip: rect(1px 1px 1px 1px);clip: rect(1px, 1px, 1px, 1px);height: 1px;margin: -1px;overflow: hidden;padding: 0;position: absolute;width: 1px;}#sk-container-id-7 div.sk-estimator {font-family: monospace;background-color: #f0f8ff;border: 1px dotted black;border-radius: 0.25em;box-sizing: border-box;margin-bottom: 0.5em;}#sk-container-id-7 div.sk-estimator:hover {background-color: #d4ebff;}#sk-container-id-7 div.sk-parallel-item::after {content: \"\";width: 100%;border-bottom: 1px solid gray;flex-grow: 1;}#sk-container-id-7 div.sk-label:hover label.sk-toggleable__label {background-color: #d4ebff;}#sk-container-id-7 div.sk-serial::before {content: \"\";position: absolute;border-left: 1px solid gray;box-sizing: border-box;top: 0;bottom: 0;left: 50%;z-index: 0;}#sk-container-id-7 div.sk-serial {display: flex;flex-direction: column;align-items: center;background-color: white;padding-right: 0.2em;padding-left: 0.2em;position: relative;}#sk-container-id-7 div.sk-item {position: relative;z-index: 1;}#sk-container-id-7 div.sk-parallel {display: flex;align-items: stretch;justify-content: center;background-color: white;position: relative;}#sk-container-id-7 div.sk-item::before, #sk-container-id-7 div.sk-parallel-item::before {content: \"\";position: absolute;border-left: 1px solid gray;box-sizing: border-box;top: 0;bottom: 0;left: 50%;z-index: -1;}#sk-container-id-7 div.sk-parallel-item {display: flex;flex-direction: column;z-index: 1;position: relative;background-color: white;}#sk-container-id-7 div.sk-parallel-item:first-child::after {align-self: flex-end;width: 50%;}#sk-container-id-7 div.sk-parallel-item:last-child::after {align-self: flex-start;width: 50%;}#sk-container-id-7 div.sk-parallel-item:only-child::after {width: 0;}#sk-container-id-7 div.sk-dashed-wrapped {border: 1px dashed gray;margin: 0 0.4em 0.5em 0.4em;box-sizing: border-box;padding-bottom: 0.4em;background-color: white;}#sk-container-id-7 div.sk-label label {font-family: monospace;font-weight: bold;display: inline-block;line-height: 1.2em;}#sk-container-id-7 div.sk-label-container {text-align: center;}#sk-container-id-7 div.sk-container {/* jupyter's `normalize.less` sets `[hidden] { display: none; }` but bootstrap.min.css set `[hidden] { display: none !important; }` so we also need the `!important` here to be able to override the default hidden behavior on the sphinx rendered scikit-learn.org. See: https://github.com/scikit-learn/scikit-learn/issues/21755 */display: inline-block !important;position: relative;}#sk-container-id-7 div.sk-text-repr-fallback {display: none;}</style><div id=\"sk-container-id-7\" class=\"sk-top-container\"><div class=\"sk-text-repr-fallback\"><pre>DecisionTreeClassifier(max_depth=5)</pre><b>In a Jupyter environment, please rerun this cell to show the HTML representation or trust the notebook. <br />On GitHub, the HTML representation is unable to render, please try loading this page with nbviewer.org.</b></div><div class=\"sk-container\" hidden><div class=\"sk-item\"><div class=\"sk-estimator sk-toggleable\"><input class=\"sk-toggleable__control sk-hidden--visually\" id=\"sk-estimator-id-7\" type=\"checkbox\" checked><label for=\"sk-estimator-id-7\" class=\"sk-toggleable__label sk-toggleable__label-arrow\">DecisionTreeClassifier</label><div class=\"sk-toggleable__content\"><pre>DecisionTreeClassifier(max_depth=5)</pre></div></div></div></div></div>"
      ],
      "text/plain": [
       "DecisionTreeClassifier(max_depth=5)"
      ]
     },
     "execution_count": 56,
     "metadata": {},
     "output_type": "execute_result"
    }
   ],
   "source": [
    "from sklearn.tree import DecisionTreeClassifier\n",
    "model = DecisionTreeClassifier(max_depth=5)\n",
    "model.fit(X_train, y_train)"
   ]
  },
  {
   "cell_type": "code",
   "execution_count": 57,
   "id": "fe355811",
   "metadata": {},
   "outputs": [
    {
     "name": "stdout",
     "output_type": "stream",
     "text": [
      "              precision    recall  f1-score   support\n",
      "\n",
      "           0       0.90      0.54      0.67      1440\n",
      "           1       0.78      0.97      0.86      2432\n",
      "\n",
      "    accuracy                           0.81      3872\n",
      "   macro avg       0.84      0.75      0.77      3872\n",
      "weighted avg       0.82      0.81      0.79      3872\n",
      "\n"
     ]
    }
   ],
   "source": [
    "y_pred = model.predict(X_test)\n",
    "print(classification_report(y_test, y_pred))"
   ]
  },
  {
   "cell_type": "code",
   "execution_count": 58,
   "id": "8e975c8c",
   "metadata": {},
   "outputs": [
    {
     "data": {
      "image/png": "[encoded data removed]",
      "text/plain": [
       "<Figure size 800x800 with 1 Axes>"
      ]
     },
     "metadata": {},
     "output_type": "display_data"
    }
   ],
   "source": [
    "fpr, tpr, thresholds = roc_curve(y_test, y_pred)\n",
    "\n",
    "# Calculate AUC\n",
    "roc_auc = roc_auc_score(y_test, y_pred)\n",
    "\n",
    "# Plot ROC curve\n",
    "plt.figure(figsize=(8, 8))\n",
    "plt.plot(fpr, tpr, color='darkorange', lw=2, label=f'AUC = {roc_auc:.2f}')\n",
    "plt.plot([0, 1], [0, 1], color='navy', lw=2, linestyle='--')\n",
    "plt.xlabel('False Positive Rate')\n",
    "plt.ylabel('True Positive Rate')\n",
    "plt.title('Receiver Operating Characteristic (ROC) Curve')\n",
    "plt.legend(loc='lower right')\n",
    "plt.show()"
   ]
  },
  {
   "cell_type": "code",
   "execution_count": 72,
   "id": "c8d7d4e5",
   "metadata": {},
   "outputs": [
    {
     "data": {
      "text/html": [
       "<style>#sk-container-id-13 {color: black;}#sk-container-id-13 pre{padding: 0;}#sk-container-id-13 div.sk-toggleable {background-color: white;}#sk-container-id-13 label.sk-toggleable__label {cursor: pointer;display: block;width: 100%;margin-bottom: 0;padding: 0.3em;box-sizing: border-box;text-align: center;}#sk-container-id-13 label.sk-toggleable__label-arrow:before {content: \"▸\";float: left;margin-right: 0.25em;color: #696969;}#sk-container-id-13 label.sk-toggleable__label-arrow:hover:before {color: black;}#sk-container-id-13 div.sk-estimator:hover label.sk-toggleable__label-arrow:before {color: black;}#sk-container-id-13 div.sk-toggleable__content {max-height: 0;max-width: 0;overflow: hidden;text-align: left;background-color: #f0f8ff;}#sk-container-id-13 div.sk-toggleable__content pre {margin: 0.2em;color: black;border-radius: 0.25em;background-color: #f0f8ff;}#sk-container-id-13 input.sk-toggleable__control:checked~div.sk-toggleable__content {max-height: 200px;max-width: 100%;overflow: auto;}#sk-container-id-13 input.sk-toggleable__control:checked~label.sk-toggleable__label-arrow:before {content: \"▾\";}#sk-container-id-13 div.sk-estimator input.sk-toggleable__control:checked~label.sk-toggleable__label {background-color: #d4ebff;}#sk-container-id-13 div.sk-label input.sk-toggleable__control:checked~label.sk-toggleable__label {background-color: #d4ebff;}#sk-container-id-13 input.sk-hidden--visually {border: 0;clip: rect(1px 1px 1px 1px);clip: rect(1px, 1px, 1px, 1px);height: 1px;margin: -1px;overflow: hidden;padding: 0;position: absolute;width: 1px;}#sk-container-id-13 div.sk-estimator {font-family: monospace;background-color: #f0f8ff;border: 1px dotted black;border-radius: 0.25em;box-sizing: border-box;margin-bottom: 0.5em;}#sk-container-id-13 div.sk-estimator:hover {background-color: #d4ebff;}#sk-container-id-13 div.sk-parallel-item::after {content: \"\";width: 100%;border-bottom: 1px solid gray;flex-grow: 1;}#sk-container-id-13 div.sk-label:hover label.sk-toggleable__label {background-color: #d4ebff;}#sk-container-id-13 div.sk-serial::before {content: \"\";position: absolute;border-left: 1px solid gray;box-sizing: border-box;top: 0;bottom: 0;left: 50%;z-index: 0;}#sk-container-id-13 div.sk-serial {display: flex;flex-direction: column;align-items: center;background-color: white;padding-right: 0.2em;padding-left: 0.2em;position: relative;}#sk-container-id-13 div.sk-item {position: relative;z-index: 1;}#sk-container-id-13 div.sk-parallel {display: flex;align-items: stretch;justify-content: center;background-color: white;position: relative;}#sk-container-id-13 div.sk-item::before, #sk-container-id-13 div.sk-parallel-item::before {content: \"\";position: absolute;border-left: 1px solid gray;box-sizing: border-box;top: 0;bottom: 0;left: 50%;z-index: -1;}#sk-container-id-13 div.sk-parallel-item {display: flex;flex-direction: column;z-index: 1;position: relative;background-color: white;}#sk-container-id-13 div.sk-parallel-item:first-child::after {align-self: flex-end;width: 50%;}#sk-container-id-13 div.sk-parallel-item:last-child::after {align-self: flex-start;width: 50%;}#sk-container-id-13 div.sk-parallel-item:only-child::after {width: 0;}#sk-container-id-13 div.sk-dashed-wrapped {border: 1px dashed gray;margin: 0 0.4em 0.5em 0.4em;box-sizing: border-box;padding-bottom: 0.4em;background-color: white;}#sk-container-id-13 div.sk-label label {font-family: monospace;font-weight: bold;display: inline-block;line-height: 1.2em;}#sk-container-id-13 div.sk-label-container {text-align: center;}#sk-container-id-13 div.sk-container {/* jupyter's `normalize.less` sets `[hidden] { display: none; }` but bootstrap.min.css set `[hidden] { display: none !important; }` so we also need the `!important` here to be able to override the default hidden behavior on the sphinx rendered scikit-learn.org. See: https://github.com/scikit-learn/scikit-learn/issues/21755 */display: inline-block !important;position: relative;}#sk-container-id-13 div.sk-text-repr-fallback {display: none;}</style><div id=\"sk-container-id-13\" class=\"sk-top-container\"><div class=\"sk-text-repr-fallback\"><pre>AdaBoostClassifier(learning_rate=1)</pre><b>In a Jupyter environment, please rerun this cell to show the HTML representation or trust the notebook. <br />On GitHub, the HTML representation is unable to render, please try loading this page with nbviewer.org.</b></div><div class=\"sk-container\" hidden><div class=\"sk-item\"><div class=\"sk-estimator sk-toggleable\"><input class=\"sk-toggleable__control sk-hidden--visually\" id=\"sk-estimator-id-13\" type=\"checkbox\" checked><label for=\"sk-estimator-id-13\" class=\"sk-toggleable__label sk-toggleable__label-arrow\">AdaBoostClassifier</label><div class=\"sk-toggleable__content\"><pre>AdaBoostClassifier(learning_rate=1)</pre></div></div></div></div></div>"
      ],
      "text/plain": [
       "AdaBoostClassifier(learning_rate=1)"
      ]
     },
     "execution_count": 72,
     "metadata": {},
     "output_type": "execute_result"
    }
   ],
   "source": [
    "from sklearn.ensemble import AdaBoostClassifier\n",
    "\n",
    "model = AdaBoostClassifier(n_estimators=50, learning_rate=1)\n",
    "model.fit(X_train, y_train)"
   ]
  },
  {
   "cell_type": "code",
   "execution_count": 73,
   "id": "15600097",
   "metadata": {},
   "outputs": [
    {
     "name": "stdout",
     "output_type": "stream",
     "text": [
      "              precision    recall  f1-score   support\n",
      "\n",
      "           0       0.91      0.50      0.64      1440\n",
      "           1       0.77      0.97      0.86      2432\n",
      "\n",
      "    accuracy                           0.80      3872\n",
      "   macro avg       0.84      0.74      0.75      3872\n",
      "weighted avg       0.82      0.80      0.78      3872\n",
      "\n"
     ]
    }
   ],
   "source": [
    "y_pred = model.predict(X_test)\n",
    "\n",
    "print(classification_report(y_test, y_pred))"
   ]
  },
  {
   "cell_type": "code",
   "execution_count": 74,
   "id": "61551d48",
   "metadata": {},
   "outputs": [
    {
     "data": {
      "image/png": "[encoded data removed]",
      "text/plain": [
       "<Figure size 800x800 with 1 Axes>"
      ]
     },
     "metadata": {},
     "output_type": "display_data"
    }
   ],
   "source": [
    "fpr, tpr, thresholds = roc_curve(y_test, y_pred)\n",
    "\n",
    "# Calculate AUC\n",
    "roc_auc = roc_auc_score(y_test, y_pred)\n",
    "\n",
    "# Plot ROC curve\n",
    "plt.figure(figsize=(8, 8))\n",
    "plt.plot(fpr, tpr, color='darkorange', lw=2, label=f'AUC = {roc_auc:.2f}')\n",
    "plt.plot([0, 1], [0, 1], color='navy', lw=2, linestyle='--')\n",
    "plt.xlabel('False Positive Rate')\n",
    "plt.ylabel('True Positive Rate')\n",
    "plt.title('Receiver Operating Characteristic (ROC) Curve')\n",
    "plt.legend(loc='lower right')\n",
    "plt.show()"
   ]
  },
  {
   "cell_type": "code",
   "execution_count": 89,
   "id": "b83efa2c",
   "metadata": {},
   "outputs": [
    {
     "data": {
      "text/html": [
       "<style>#sk-container-id-21 {color: black;}#sk-container-id-21 pre{padding: 0;}#sk-container-id-21 div.sk-toggleable {background-color: white;}#sk-container-id-21 label.sk-toggleable__label {cursor: pointer;display: block;width: 100%;margin-bottom: 0;padding: 0.3em;box-sizing: border-box;text-align: center;}#sk-container-id-21 label.sk-toggleable__label-arrow:before {content: \"▸\";float: left;margin-right: 0.25em;color: #696969;}#sk-container-id-21 label.sk-toggleable__label-arrow:hover:before {color: black;}#sk-container-id-21 div.sk-estimator:hover label.sk-toggleable__label-arrow:before {color: black;}#sk-container-id-21 div.sk-toggleable__content {max-height: 0;max-width: 0;overflow: hidden;text-align: left;background-color: #f0f8ff;}#sk-container-id-21 div.sk-toggleable__content pre {margin: 0.2em;color: black;border-radius: 0.25em;background-color: #f0f8ff;}#sk-container-id-21 input.sk-toggleable__control:checked~div.sk-toggleable__content {max-height: 200px;max-width: 100%;overflow: auto;}#sk-container-id-21 input.sk-toggleable__control:checked~label.sk-toggleable__label-arrow:before {content: \"▾\";}#sk-container-id-21 div.sk-estimator input.sk-toggleable__control:checked~label.sk-toggleable__label {background-color: #d4ebff;}#sk-container-id-21 div.sk-label input.sk-toggleable__control:checked~label.sk-toggleable__label {background-color: #d4ebff;}#sk-container-id-21 input.sk-hidden--visually {border: 0;clip: rect(1px 1px 1px 1px);clip: rect(1px, 1px, 1px, 1px);height: 1px;margin: -1px;overflow: hidden;padding: 0;position: absolute;width: 1px;}#sk-container-id-21 div.sk-estimator {font-family: monospace;background-color: #f0f8ff;border: 1px dotted black;border-radius: 0.25em;box-sizing: border-box;margin-bottom: 0.5em;}#sk-container-id-21 div.sk-estimator:hover {background-color: #d4ebff;}#sk-container-id-21 div.sk-parallel-item::after {content: \"\";width: 100%;border-bottom: 1px solid gray;flex-grow: 1;}#sk-container-id-21 div.sk-label:hover label.sk-toggleable__label {background-color: #d4ebff;}#sk-container-id-21 div.sk-serial::before {content: \"\";position: absolute;border-left: 1px solid gray;box-sizing: border-box;top: 0;bottom: 0;left: 50%;z-index: 0;}#sk-container-id-21 div.sk-serial {display: flex;flex-direction: column;align-items: center;background-color: white;padding-right: 0.2em;padding-left: 0.2em;position: relative;}#sk-container-id-21 div.sk-item {position: relative;z-index: 1;}#sk-container-id-21 div.sk-parallel {display: flex;align-items: stretch;justify-content: center;background-color: white;position: relative;}#sk-container-id-21 div.sk-item::before, #sk-container-id-21 div.sk-parallel-item::before {content: \"\";position: absolute;border-left: 1px solid gray;box-sizing: border-box;top: 0;bottom: 0;left: 50%;z-index: -1;}#sk-container-id-21 div.sk-parallel-item {display: flex;flex-direction: column;z-index: 1;position: relative;background-color: white;}#sk-container-id-21 div.sk-parallel-item:first-child::after {align-self: flex-end;width: 50%;}#sk-container-id-21 div.sk-parallel-item:last-child::after {align-self: flex-start;width: 50%;}#sk-container-id-21 div.sk-parallel-item:only-child::after {width: 0;}#sk-container-id-21 div.sk-dashed-wrapped {border: 1px dashed gray;margin: 0 0.4em 0.5em 0.4em;box-sizing: border-box;padding-bottom: 0.4em;background-color: white;}#sk-container-id-21 div.sk-label label {font-family: monospace;font-weight: bold;display: inline-block;line-height: 1.2em;}#sk-container-id-21 div.sk-label-container {text-align: center;}#sk-container-id-21 div.sk-container {/* jupyter's `normalize.less` sets `[hidden] { display: none; }` but bootstrap.min.css set `[hidden] { display: none !important; }` so we also need the `!important` here to be able to override the default hidden behavior on the sphinx rendered scikit-learn.org. See: https://github.com/scikit-learn/scikit-learn/issues/21755 */display: inline-block !important;position: relative;}#sk-container-id-21 div.sk-text-repr-fallback {display: none;}</style><div id=\"sk-container-id-21\" class=\"sk-top-container\"><div class=\"sk-text-repr-fallback\"><pre>GradientBoostingClassifier(learning_rate=0.5, max_depth=2, n_estimators=200,\n",
       "                           random_state=0)</pre><b>In a Jupyter environment, please rerun this cell to show the HTML representation or trust the notebook. <br />On GitHub, the HTML representation is unable to render, please try loading this page with nbviewer.org.</b></div><div class=\"sk-container\" hidden><div class=\"sk-item\"><div class=\"sk-estimator sk-toggleable\"><input class=\"sk-toggleable__control sk-hidden--visually\" id=\"sk-estimator-id-21\" type=\"checkbox\" checked><label for=\"sk-estimator-id-21\" class=\"sk-toggleable__label sk-toggleable__label-arrow\">GradientBoostingClassifier</label><div class=\"sk-toggleable__content\"><pre>GradientBoostingClassifier(learning_rate=0.5, max_depth=2, n_estimators=200,\n",
       "                           random_state=0)</pre></div></div></div></div></div>"
      ],
      "text/plain": [
       "GradientBoostingClassifier(learning_rate=0.5, max_depth=2, n_estimators=200,\n",
       "                           random_state=0)"
      ]
     },
     "execution_count": 89,
     "metadata": {},
     "output_type": "execute_result"
    }
   ],
   "source": [
    "from sklearn.ensemble import GradientBoostingClassifier\n",
    "clf = GradientBoostingClassifier(n_estimators=200, learning_rate=0.5, max_depth=2, random_state=0)\n",
    "clf.fit(X_train, y_train)"
   ]
  },
  {
   "cell_type": "code",
   "execution_count": 90,
   "id": "e4508a58",
   "metadata": {},
   "outputs": [
    {
     "name": "stdout",
     "output_type": "stream",
     "text": [
      "              precision    recall  f1-score   support\n",
      "\n",
      "           0       0.85      0.55      0.67      1440\n",
      "           1       0.78      0.94      0.85      2432\n",
      "\n",
      "    accuracy                           0.80      3872\n",
      "   macro avg       0.81      0.75      0.76      3872\n",
      "weighted avg       0.81      0.80      0.79      3872\n",
      "\n"
     ]
    }
   ],
   "source": [
    "y_pred = clf.predict(X_test)\n",
    "\n",
    "print(classification_report(y_test, y_pred))"
   ]
  },
  {
   "cell_type": "code",
   "execution_count": 91,
   "id": "f5bbd28f",
   "metadata": {},
   "outputs": [
    {
     "data": {
      "image/png": "[encoded data removed]",
      "text/plain": [
       "<Figure size 800x800 with 1 Axes>"
      ]
     },
     "metadata": {},
     "output_type": "display_data"
    }
   ],
   "source": [
    "fpr, tpr, thresholds = roc_curve(y_test, y_pred)\n",
    "\n",
    "# Calculate AUC\n",
    "roc_auc = roc_auc_score(y_test, y_pred)\n",
    "\n",
    "# Plot ROC curve\n",
    "plt.figure(figsize=(8, 8))\n",
    "plt.plot(fpr, tpr, color='darkorange', lw=2, label=f'AUC = {roc_auc:.2f}')\n",
    "plt.plot([0, 1], [0, 1], color='navy', lw=2, linestyle='--')\n",
    "plt.xlabel('False Positive Rate')\n",
    "plt.ylabel('True Positive Rate')\n",
    "plt.title('Receiver Operating Characteristic (ROC) Curve')\n",
    "plt.legend(loc='lower right')\n",
    "plt.show()"
   ]
  },
  {
   "cell_type": "code",
   "execution_count": 113,
   "id": "6044438f",
   "metadata": {},
   "outputs": [
    {
     "data": {
      "text/html": [
       "<style>#sk-container-id-28 {color: black;}#sk-container-id-28 pre{padding: 0;}#sk-container-id-28 div.sk-toggleable {background-color: white;}#sk-container-id-28 label.sk-toggleable__label {cursor: pointer;display: block;width: 100%;margin-bottom: 0;padding: 0.3em;box-sizing: border-box;text-align: center;}#sk-container-id-28 label.sk-toggleable__label-arrow:before {content: \"▸\";float: left;margin-right: 0.25em;color: #696969;}#sk-container-id-28 label.sk-toggleable__label-arrow:hover:before {color: black;}#sk-container-id-28 div.sk-estimator:hover label.sk-toggleable__label-arrow:before {color: black;}#sk-container-id-28 div.sk-toggleable__content {max-height: 0;max-width: 0;overflow: hidden;text-align: left;background-color: #f0f8ff;}#sk-container-id-28 div.sk-toggleable__content pre {margin: 0.2em;color: black;border-radius: 0.25em;background-color: #f0f8ff;}#sk-container-id-28 input.sk-toggleable__control:checked~div.sk-toggleable__content {max-height: 200px;max-width: 100%;overflow: auto;}#sk-container-id-28 input.sk-toggleable__control:checked~label.sk-toggleable__label-arrow:before {content: \"▾\";}#sk-container-id-28 div.sk-estimator input.sk-toggleable__control:checked~label.sk-toggleable__label {background-color: #d4ebff;}#sk-container-id-28 div.sk-label input.sk-toggleable__control:checked~label.sk-toggleable__label {background-color: #d4ebff;}#sk-container-id-28 input.sk-hidden--visually {border: 0;clip: rect(1px 1px 1px 1px);clip: rect(1px, 1px, 1px, 1px);height: 1px;margin: -1px;overflow: hidden;padding: 0;position: absolute;width: 1px;}#sk-container-id-28 div.sk-estimator {font-family: monospace;background-color: #f0f8ff;border: 1px dotted black;border-radius: 0.25em;box-sizing: border-box;margin-bottom: 0.5em;}#sk-container-id-28 div.sk-estimator:hover {background-color: #d4ebff;}#sk-container-id-28 div.sk-parallel-item::after {content: \"\";width: 100%;border-bottom: 1px solid gray;flex-grow: 1;}#sk-container-id-28 div.sk-label:hover label.sk-toggleable__label {background-color: #d4ebff;}#sk-container-id-28 div.sk-serial::before {content: \"\";position: absolute;border-left: 1px solid gray;box-sizing: border-box;top: 0;bottom: 0;left: 50%;z-index: 0;}#sk-container-id-28 div.sk-serial {display: flex;flex-direction: column;align-items: center;background-color: white;padding-right: 0.2em;padding-left: 0.2em;position: relative;}#sk-container-id-28 div.sk-item {position: relative;z-index: 1;}#sk-container-id-28 div.sk-parallel {display: flex;align-items: stretch;justify-content: center;background-color: white;position: relative;}#sk-container-id-28 div.sk-item::before, #sk-container-id-28 div.sk-parallel-item::before {content: \"\";position: absolute;border-left: 1px solid gray;box-sizing: border-box;top: 0;bottom: 0;left: 50%;z-index: -1;}#sk-container-id-28 div.sk-parallel-item {display: flex;flex-direction: column;z-index: 1;position: relative;background-color: white;}#sk-container-id-28 div.sk-parallel-item:first-child::after {align-self: flex-end;width: 50%;}#sk-container-id-28 div.sk-parallel-item:last-child::after {align-self: flex-start;width: 50%;}#sk-container-id-28 div.sk-parallel-item:only-child::after {width: 0;}#sk-container-id-28 div.sk-dashed-wrapped {border: 1px dashed gray;margin: 0 0.4em 0.5em 0.4em;box-sizing: border-box;padding-bottom: 0.4em;background-color: white;}#sk-container-id-28 div.sk-label label {font-family: monospace;font-weight: bold;display: inline-block;line-height: 1.2em;}#sk-container-id-28 div.sk-label-container {text-align: center;}#sk-container-id-28 div.sk-container {/* jupyter's `normalize.less` sets `[hidden] { display: none; }` but bootstrap.min.css set `[hidden] { display: none !important; }` so we also need the `!important` here to be able to override the default hidden behavior on the sphinx rendered scikit-learn.org. See: https://github.com/scikit-learn/scikit-learn/issues/21755 */display: inline-block !important;position: relative;}#sk-container-id-28 div.sk-text-repr-fallback {display: none;}</style><div id=\"sk-container-id-28\" class=\"sk-top-container\"><div class=\"sk-text-repr-fallback\"><pre>XGBClassifier(base_score=None, booster=None, callbacks=None,\n",
       "              colsample_bylevel=None, colsample_bynode=None,\n",
       "              colsample_bytree=None, early_stopping_rounds=None,\n",
       "              enable_categorical=False, eta=0.1, eval_metric=None,\n",
       "              feature_types=None, gamma=None, gpu_id=None, grow_policy=None,\n",
       "              importance_type=None, interaction_constraints=None,\n",
       "              learning_rate=None, max_bin=None, max_cat_threshold=None,\n",
       "              max_cat_to_onehot=None, max_delta_step=None, max_depth=None,\n",
       "              max_leaves=None, min_child_weight=4.5, missing=nan,\n",
       "              monotone_constraints=None, n_estimators=100, n_jobs=None,\n",
       "              num_parallel_tree=None, predictor=None, ...)</pre><b>In a Jupyter environment, please rerun this cell to show the HTML representation or trust the notebook. <br />On GitHub, the HTML representation is unable to render, please try loading this page with nbviewer.org.</b></div><div class=\"sk-container\" hidden><div class=\"sk-item\"><div class=\"sk-estimator sk-toggleable\"><input class=\"sk-toggleable__control sk-hidden--visually\" id=\"sk-estimator-id-28\" type=\"checkbox\" checked><label for=\"sk-estimator-id-28\" class=\"sk-toggleable__label sk-toggleable__label-arrow\">XGBClassifier</label><div class=\"sk-toggleable__content\"><pre>XGBClassifier(base_score=None, booster=None, callbacks=None,\n",
       "              colsample_bylevel=None, colsample_bynode=None,\n",
       "              colsample_bytree=None, early_stopping_rounds=None,\n",
       "              enable_categorical=False, eta=0.1, eval_metric=None,\n",
       "              feature_types=None, gamma=None, gpu_id=None, grow_policy=None,\n",
       "              importance_type=None, interaction_constraints=None,\n",
       "              learning_rate=None, max_bin=None, max_cat_threshold=None,\n",
       "              max_cat_to_onehot=None, max_delta_step=None, max_depth=None,\n",
       "              max_leaves=None, min_child_weight=4.5, missing=nan,\n",
       "              monotone_constraints=None, n_estimators=100, n_jobs=None,\n",
       "              num_parallel_tree=None, predictor=None, ...)</pre></div></div></div></div></div>"
      ],
      "text/plain": [
       "XGBClassifier(base_score=None, booster=None, callbacks=None,\n",
       "              colsample_bylevel=None, colsample_bynode=None,\n",
       "              colsample_bytree=None, early_stopping_rounds=None,\n",
       "              enable_categorical=False, eta=0.1, eval_metric=None,\n",
       "              feature_types=None, gamma=None, gpu_id=None, grow_policy=None,\n",
       "              importance_type=None, interaction_constraints=None,\n",
       "              learning_rate=None, max_bin=None, max_cat_threshold=None,\n",
       "              max_cat_to_onehot=None, max_delta_step=None, max_depth=None,\n",
       "              max_leaves=None, min_child_weight=4.5, missing=nan,\n",
       "              monotone_constraints=None, n_estimators=100, n_jobs=None,\n",
       "              num_parallel_tree=None, predictor=None, ...)"
      ]
     },
     "execution_count": 113,
     "metadata": {},
     "output_type": "execute_result"
    }
   ],
   "source": [
    "import xgboost as xgb\n",
    "\n",
    "xgb_classifier = xgb.XGBClassifier(eta=0.1, reg_lambda=1, min_child_weight=4.5)\n",
    "xgb_classifier.fit(X_train, y_train)"
   ]
  },
  {
   "cell_type": "code",
   "execution_count": 114,
   "id": "8e88d0f8",
   "metadata": {},
   "outputs": [
    {
     "name": "stdout",
     "output_type": "stream",
     "text": [
      "              precision    recall  f1-score   support\n",
      "\n",
      "           0       0.88      0.54      0.67      1440\n",
      "           1       0.78      0.96      0.86      2432\n",
      "\n",
      "    accuracy                           0.80      3872\n",
      "   macro avg       0.83      0.75      0.76      3872\n",
      "weighted avg       0.82      0.80      0.79      3872\n",
      "\n"
     ]
    }
   ],
   "source": [
    "y_pred = xgb_classifier.predict(X_test)\n",
    "\n",
    "print(classification_report(y_test, y_pred))"
   ]
  },
  {
   "cell_type": "code",
   "execution_count": 102,
   "id": "dcae9347",
   "metadata": {},
   "outputs": [
    {
     "data": {
      "image/png": "[encoded data removed]",
      "text/plain": [
       "<Figure size 800x800 with 1 Axes>"
      ]
     },
     "metadata": {},
     "output_type": "display_data"
    }
   ],
   "source": [
    "fpr, tpr, thresholds = roc_curve(y_test, y_pred)\n",
    "\n",
    "# Calculate AUC\n",
    "roc_auc = roc_auc_score(y_test, y_pred)\n",
    "\n",
    "# Plot ROC curve\n",
    "plt.figure(figsize=(8, 8))\n",
    "plt.plot(fpr, tpr, color='darkorange', lw=2, label=f'AUC = {roc_auc:.2f}')\n",
    "plt.plot([0, 1], [0, 1], color='navy', lw=2, linestyle='--')\n",
    "plt.xlabel('False Positive Rate')\n",
    "plt.ylabel('True Positive Rate')\n",
    "plt.title('Receiver Operating Characteristic (ROC) Curve')\n",
    "plt.legend(loc='lower right')\n",
    "plt.show()"
   ]
  },
  {
   "cell_type": "code",
   "execution_count": null,
   "id": "07825291",
   "metadata": {},
   "outputs": [],
   "source": []
  },
  {
   "cell_type": "code",
   "execution_count": 92,
   "id": "58c928b7",
   "metadata": {},
   "outputs": [
    {
     "data": {
      "text/html": [
       "<div>\n",
       "<style scoped>\n",
       "    .dataframe tbody tr th:only-of-type {\n",
       "        vertical-align: middle;\n",
       "    }\n",
       "\n",
       "    .dataframe tbody tr th {\n",
       "        vertical-align: top;\n",
       "    }\n",
       "\n",
       "    .dataframe thead th {\n",
       "        text-align: right;\n",
       "    }\n",
       "</style>\n",
       "<table border=\"1\" class=\"dataframe\">\n",
       "  <thead>\n",
       "    <tr style=\"text-align: right;\">\n",
       "      <th></th>\n",
       "      <th>patient_id</th>\n",
       "      <th>patient_age</th>\n",
       "      <th>bmi</th>\n",
       "      <th>breast_cancer_diagnosis_desc</th>\n",
       "      <th>population</th>\n",
       "      <th>density</th>\n",
       "      <th>age_median</th>\n",
       "      <th>age_under_10</th>\n",
       "      <th>age_10_to_19</th>\n",
       "      <th>age_20s</th>\n",
       "      <th>...</th>\n",
       "      <th>Division_Pacific</th>\n",
       "      <th>Division_South Atlantic</th>\n",
       "      <th>Division_West North Central</th>\n",
       "      <th>Division_West South Central</th>\n",
       "      <th>Division_none_given</th>\n",
       "      <th>Region_Midwest</th>\n",
       "      <th>Region_Northeast</th>\n",
       "      <th>Region_South</th>\n",
       "      <th>Region_West</th>\n",
       "      <th>Region_none_given</th>\n",
       "    </tr>\n",
       "  </thead>\n",
       "  <tbody>\n",
       "    <tr>\n",
       "      <th>0</th>\n",
       "      <td>573710</td>\n",
       "      <td>54</td>\n",
       "      <td>28.15</td>\n",
       "      <td>0.331279</td>\n",
       "      <td>5441.435484</td>\n",
       "      <td>85.620968</td>\n",
       "      <td>40.880328</td>\n",
       "      <td>12.732258</td>\n",
       "      <td>14.088710</td>\n",
       "      <td>10.659677</td>\n",
       "      <td>...</td>\n",
       "      <td>0</td>\n",
       "      <td>0</td>\n",
       "      <td>0</td>\n",
       "      <td>0</td>\n",
       "      <td>0</td>\n",
       "      <td>1</td>\n",
       "      <td>0</td>\n",
       "      <td>0</td>\n",
       "      <td>0</td>\n",
       "      <td>0</td>\n",
       "    </tr>\n",
       "    <tr>\n",
       "      <th>1</th>\n",
       "      <td>593679</td>\n",
       "      <td>52</td>\n",
       "      <td>28.15</td>\n",
       "      <td>0.799761</td>\n",
       "      <td>19613.820510</td>\n",
       "      <td>1555.107692</td>\n",
       "      <td>49.107692</td>\n",
       "      <td>8.069231</td>\n",
       "      <td>8.587179</td>\n",
       "      <td>10.684615</td>\n",
       "      <td>...</td>\n",
       "      <td>0</td>\n",
       "      <td>1</td>\n",
       "      <td>0</td>\n",
       "      <td>0</td>\n",
       "      <td>0</td>\n",
       "      <td>0</td>\n",
       "      <td>0</td>\n",
       "      <td>1</td>\n",
       "      <td>0</td>\n",
       "      <td>0</td>\n",
       "    </tr>\n",
       "    <tr>\n",
       "      <th>2</th>\n",
       "      <td>184532</td>\n",
       "      <td>61</td>\n",
       "      <td>28.15</td>\n",
       "      <td>0.917013</td>\n",
       "      <td>43030.500000</td>\n",
       "      <td>2048.578261</td>\n",
       "      <td>38.852174</td>\n",
       "      <td>11.306522</td>\n",
       "      <td>12.897826</td>\n",
       "      <td>14.121739</td>\n",
       "      <td>...</td>\n",
       "      <td>1</td>\n",
       "      <td>0</td>\n",
       "      <td>0</td>\n",
       "      <td>0</td>\n",
       "      <td>0</td>\n",
       "      <td>0</td>\n",
       "      <td>0</td>\n",
       "      <td>0</td>\n",
       "      <td>1</td>\n",
       "      <td>0</td>\n",
       "    </tr>\n",
       "    <tr>\n",
       "      <th>3</th>\n",
       "      <td>447383</td>\n",
       "      <td>64</td>\n",
       "      <td>28.15</td>\n",
       "      <td>0.799761</td>\n",
       "      <td>43030.500000</td>\n",
       "      <td>2048.578261</td>\n",
       "      <td>38.852174</td>\n",
       "      <td>11.306522</td>\n",
       "      <td>12.897826</td>\n",
       "      <td>14.121739</td>\n",
       "      <td>...</td>\n",
       "      <td>1</td>\n",
       "      <td>0</td>\n",
       "      <td>0</td>\n",
       "      <td>0</td>\n",
       "      <td>0</td>\n",
       "      <td>0</td>\n",
       "      <td>0</td>\n",
       "      <td>0</td>\n",
       "      <td>1</td>\n",
       "      <td>0</td>\n",
       "    </tr>\n",
       "    <tr>\n",
       "      <th>4</th>\n",
       "      <td>687972</td>\n",
       "      <td>40</td>\n",
       "      <td>23.00</td>\n",
       "      <td>0.331279</td>\n",
       "      <td>36054.117650</td>\n",
       "      <td>5294.330882</td>\n",
       "      <td>36.653846</td>\n",
       "      <td>9.761538</td>\n",
       "      <td>11.267692</td>\n",
       "      <td>17.233846</td>\n",
       "      <td>...</td>\n",
       "      <td>1</td>\n",
       "      <td>0</td>\n",
       "      <td>0</td>\n",
       "      <td>0</td>\n",
       "      <td>0</td>\n",
       "      <td>0</td>\n",
       "      <td>0</td>\n",
       "      <td>0</td>\n",
       "      <td>1</td>\n",
       "      <td>0</td>\n",
       "    </tr>\n",
       "    <tr>\n",
       "      <th>...</th>\n",
       "      <td>...</td>\n",
       "      <td>...</td>\n",
       "      <td>...</td>\n",
       "      <td>...</td>\n",
       "      <td>...</td>\n",
       "      <td>...</td>\n",
       "      <td>...</td>\n",
       "      <td>...</td>\n",
       "      <td>...</td>\n",
       "      <td>...</td>\n",
       "      <td>...</td>\n",
       "      <td>...</td>\n",
       "      <td>...</td>\n",
       "      <td>...</td>\n",
       "      <td>...</td>\n",
       "      <td>...</td>\n",
       "      <td>...</td>\n",
       "      <td>...</td>\n",
       "      <td>...</td>\n",
       "      <td>...</td>\n",
       "      <td>...</td>\n",
       "    </tr>\n",
       "    <tr>\n",
       "      <th>5787</th>\n",
       "      <td>977076</td>\n",
       "      <td>63</td>\n",
       "      <td>29.60</td>\n",
       "      <td>0.302894</td>\n",
       "      <td>7765.000000</td>\n",
       "      <td>131.040000</td>\n",
       "      <td>40.434783</td>\n",
       "      <td>11.556522</td>\n",
       "      <td>14.021739</td>\n",
       "      <td>13.208696</td>\n",
       "      <td>...</td>\n",
       "      <td>0</td>\n",
       "      <td>0</td>\n",
       "      <td>0</td>\n",
       "      <td>0</td>\n",
       "      <td>0</td>\n",
       "      <td>0</td>\n",
       "      <td>0</td>\n",
       "      <td>1</td>\n",
       "      <td>0</td>\n",
       "      <td>0</td>\n",
       "    </tr>\n",
       "    <tr>\n",
       "      <th>5788</th>\n",
       "      <td>922960</td>\n",
       "      <td>69</td>\n",
       "      <td>28.15</td>\n",
       "      <td>0.799761</td>\n",
       "      <td>19332.750000</td>\n",
       "      <td>346.250000</td>\n",
       "      <td>38.525000</td>\n",
       "      <td>12.200000</td>\n",
       "      <td>13.025000</td>\n",
       "      <td>14.675000</td>\n",
       "      <td>...</td>\n",
       "      <td>0</td>\n",
       "      <td>0</td>\n",
       "      <td>1</td>\n",
       "      <td>0</td>\n",
       "      <td>0</td>\n",
       "      <td>1</td>\n",
       "      <td>0</td>\n",
       "      <td>0</td>\n",
       "      <td>0</td>\n",
       "      <td>0</td>\n",
       "    </tr>\n",
       "    <tr>\n",
       "      <th>5789</th>\n",
       "      <td>759690</td>\n",
       "      <td>84</td>\n",
       "      <td>28.28</td>\n",
       "      <td>0.302894</td>\n",
       "      <td>28628.290910</td>\n",
       "      <td>1091.825455</td>\n",
       "      <td>39.679245</td>\n",
       "      <td>12.143396</td>\n",
       "      <td>12.462264</td>\n",
       "      <td>11.320755</td>\n",
       "      <td>...</td>\n",
       "      <td>1</td>\n",
       "      <td>0</td>\n",
       "      <td>0</td>\n",
       "      <td>0</td>\n",
       "      <td>0</td>\n",
       "      <td>0</td>\n",
       "      <td>0</td>\n",
       "      <td>0</td>\n",
       "      <td>1</td>\n",
       "      <td>0</td>\n",
       "    </tr>\n",
       "    <tr>\n",
       "      <th>5790</th>\n",
       "      <td>911717</td>\n",
       "      <td>58</td>\n",
       "      <td>28.15</td>\n",
       "      <td>0.052932</td>\n",
       "      <td>9716.970149</td>\n",
       "      <td>150.602985</td>\n",
       "      <td>39.588060</td>\n",
       "      <td>11.768657</td>\n",
       "      <td>15.576119</td>\n",
       "      <td>12.500000</td>\n",
       "      <td>...</td>\n",
       "      <td>0</td>\n",
       "      <td>0</td>\n",
       "      <td>0</td>\n",
       "      <td>1</td>\n",
       "      <td>0</td>\n",
       "      <td>0</td>\n",
       "      <td>0</td>\n",
       "      <td>1</td>\n",
       "      <td>0</td>\n",
       "      <td>0</td>\n",
       "    </tr>\n",
       "    <tr>\n",
       "      <th>5791</th>\n",
       "      <td>327597</td>\n",
       "      <td>83</td>\n",
       "      <td>28.15</td>\n",
       "      <td>0.267569</td>\n",
       "      <td>31657.461540</td>\n",
       "      <td>8664.119231</td>\n",
       "      <td>39.729167</td>\n",
       "      <td>10.183333</td>\n",
       "      <td>14.062500</td>\n",
       "      <td>14.425000</td>\n",
       "      <td>...</td>\n",
       "      <td>0</td>\n",
       "      <td>0</td>\n",
       "      <td>0</td>\n",
       "      <td>0</td>\n",
       "      <td>0</td>\n",
       "      <td>0</td>\n",
       "      <td>1</td>\n",
       "      <td>0</td>\n",
       "      <td>0</td>\n",
       "      <td>0</td>\n",
       "    </tr>\n",
       "  </tbody>\n",
       "</table>\n",
       "<p>5792 rows × 142 columns</p>\n",
       "</div>"
      ],
      "text/plain": [
       "      patient_id  patient_age    bmi  breast_cancer_diagnosis_desc  \\\n",
       "0         573710           54  28.15                      0.331279   \n",
       "1         593679           52  28.15                      0.799761   \n",
       "2         184532           61  28.15                      0.917013   \n",
       "3         447383           64  28.15                      0.799761   \n",
       "4         687972           40  23.00                      0.331279   \n",
       "...          ...          ...    ...                           ...   \n",
       "5787      977076           63  29.60                      0.302894   \n",
       "5788      922960           69  28.15                      0.799761   \n",
       "5789      759690           84  28.28                      0.302894   \n",
       "5790      911717           58  28.15                      0.052932   \n",
       "5791      327597           83  28.15                      0.267569   \n",
       "\n",
       "        population      density  age_median  age_under_10  age_10_to_19  \\\n",
       "0      5441.435484    85.620968   40.880328     12.732258     14.088710   \n",
       "1     19613.820510  1555.107692   49.107692      8.069231      8.587179   \n",
       "2     43030.500000  2048.578261   38.852174     11.306522     12.897826   \n",
       "3     43030.500000  2048.578261   38.852174     11.306522     12.897826   \n",
       "4     36054.117650  5294.330882   36.653846      9.761538     11.267692   \n",
       "...            ...          ...         ...           ...           ...   \n",
       "5787   7765.000000   131.040000   40.434783     11.556522     14.021739   \n",
       "5788  19332.750000   346.250000   38.525000     12.200000     13.025000   \n",
       "5789  28628.290910  1091.825455   39.679245     12.143396     12.462264   \n",
       "5790   9716.970149   150.602985   39.588060     11.768657     15.576119   \n",
       "5791  31657.461540  8664.119231   39.729167     10.183333     14.062500   \n",
       "\n",
       "        age_20s  ...  Division_Pacific  Division_South Atlantic  \\\n",
       "0     10.659677  ...                 0                        0   \n",
       "1     10.684615  ...                 0                        1   \n",
       "2     14.121739  ...                 1                        0   \n",
       "3     14.121739  ...                 1                        0   \n",
       "4     17.233846  ...                 1                        0   \n",
       "...         ...  ...               ...                      ...   \n",
       "5787  13.208696  ...                 0                        0   \n",
       "5788  14.675000  ...                 0                        0   \n",
       "5789  11.320755  ...                 1                        0   \n",
       "5790  12.500000  ...                 0                        0   \n",
       "5791  14.425000  ...                 0                        0   \n",
       "\n",
       "      Division_West North Central  Division_West South Central  \\\n",
       "0                               0                            0   \n",
       "1                               0                            0   \n",
       "2                               0                            0   \n",
       "3                               0                            0   \n",
       "4                               0                            0   \n",
       "...                           ...                          ...   \n",
       "5787                            0                            0   \n",
       "5788                            1                            0   \n",
       "5789                            0                            0   \n",
       "5790                            0                            1   \n",
       "5791                            0                            0   \n",
       "\n",
       "      Division_none_given  Region_Midwest  Region_Northeast  Region_South  \\\n",
       "0                       0               1                 0             0   \n",
       "1                       0               0                 0             1   \n",
       "2                       0               0                 0             0   \n",
       "3                       0               0                 0             0   \n",
       "4                       0               0                 0             0   \n",
       "...                   ...             ...               ...           ...   \n",
       "5787                    0               0                 0             1   \n",
       "5788                    0               1                 0             0   \n",
       "5789                    0               0                 0             0   \n",
       "5790                    0               0                 0             1   \n",
       "5791                    0               0                 1             0   \n",
       "\n",
       "      Region_West  Region_none_given  \n",
       "0               0                  0  \n",
       "1               0                  0  \n",
       "2               1                  0  \n",
       "3               1                  0  \n",
       "4               1                  0  \n",
       "...           ...                ...  \n",
       "5787            0                  0  \n",
       "5788            0                  0  \n",
       "5789            1                  0  \n",
       "5790            0                  0  \n",
       "5791            0                  0  \n",
       "\n",
       "[5792 rows x 142 columns]"
      ]
     },
     "execution_count": 92,
     "metadata": {},
     "output_type": "execute_result"
    }
   ],
   "source": [
    "test_df"
   ]
  },
  {
   "cell_type": "code",
   "execution_count": 93,
   "id": "396d8778",
   "metadata": {},
   "outputs": [],
   "source": [
    "test_patient_id = test_df['patient_id']\n",
    "test_df.drop(columns=['patient_id'], inplace=True)"
   ]
  },
  {
   "cell_type": "code",
   "execution_count": null,
   "id": "53443ef2",
   "metadata": {},
   "outputs": [],
   "source": []
  },
  {
   "cell_type": "code",
   "execution_count": 115,
   "id": "1b28e007",
   "metadata": {},
   "outputs": [],
   "source": [
    "test_pred = xgb_classifier.predict(test_df)"
   ]
  },
  {
   "cell_type": "code",
   "execution_count": 116,
   "id": "873bd70e",
   "metadata": {},
   "outputs": [
    {
     "data": {
      "text/plain": [
       "array([1, 1, 1, ..., 1, 0, 1])"
      ]
     },
     "execution_count": 116,
     "metadata": {},
     "output_type": "execute_result"
    }
   ],
   "source": [
    "test_pred"
   ]
  },
  {
   "cell_type": "code",
   "execution_count": 117,
   "id": "af93fc36",
   "metadata": {},
   "outputs": [
    {
     "data": {
      "text/html": [
       "<div>\n",
       "<style scoped>\n",
       "    .dataframe tbody tr th:only-of-type {\n",
       "        vertical-align: middle;\n",
       "    }\n",
       "\n",
       "    .dataframe tbody tr th {\n",
       "        vertical-align: top;\n",
       "    }\n",
       "\n",
       "    .dataframe thead th {\n",
       "        text-align: right;\n",
       "    }\n",
       "</style>\n",
       "<table border=\"1\" class=\"dataframe\">\n",
       "  <thead>\n",
       "    <tr style=\"text-align: right;\">\n",
       "      <th></th>\n",
       "      <th>patient_id</th>\n",
       "      <th>DiagPeriodL90D</th>\n",
       "    </tr>\n",
       "  </thead>\n",
       "  <tbody>\n",
       "    <tr>\n",
       "      <th>0</th>\n",
       "      <td>573710</td>\n",
       "      <td>1</td>\n",
       "    </tr>\n",
       "    <tr>\n",
       "      <th>1</th>\n",
       "      <td>593679</td>\n",
       "      <td>1</td>\n",
       "    </tr>\n",
       "    <tr>\n",
       "      <th>2</th>\n",
       "      <td>184532</td>\n",
       "      <td>1</td>\n",
       "    </tr>\n",
       "    <tr>\n",
       "      <th>3</th>\n",
       "      <td>447383</td>\n",
       "      <td>1</td>\n",
       "    </tr>\n",
       "    <tr>\n",
       "      <th>4</th>\n",
       "      <td>687972</td>\n",
       "      <td>1</td>\n",
       "    </tr>\n",
       "    <tr>\n",
       "      <th>...</th>\n",
       "      <td>...</td>\n",
       "      <td>...</td>\n",
       "    </tr>\n",
       "    <tr>\n",
       "      <th>5787</th>\n",
       "      <td>977076</td>\n",
       "      <td>1</td>\n",
       "    </tr>\n",
       "    <tr>\n",
       "      <th>5788</th>\n",
       "      <td>922960</td>\n",
       "      <td>1</td>\n",
       "    </tr>\n",
       "    <tr>\n",
       "      <th>5789</th>\n",
       "      <td>759690</td>\n",
       "      <td>1</td>\n",
       "    </tr>\n",
       "    <tr>\n",
       "      <th>5790</th>\n",
       "      <td>911717</td>\n",
       "      <td>0</td>\n",
       "    </tr>\n",
       "    <tr>\n",
       "      <th>5791</th>\n",
       "      <td>327597</td>\n",
       "      <td>1</td>\n",
       "    </tr>\n",
       "  </tbody>\n",
       "</table>\n",
       "<p>5792 rows × 2 columns</p>\n",
       "</div>"
      ],
      "text/plain": [
       "      patient_id  DiagPeriodL90D\n",
       "0         573710               1\n",
       "1         593679               1\n",
       "2         184532               1\n",
       "3         447383               1\n",
       "4         687972               1\n",
       "...          ...             ...\n",
       "5787      977076               1\n",
       "5788      922960               1\n",
       "5789      759690               1\n",
       "5790      911717               0\n",
       "5791      327597               1\n",
       "\n",
       "[5792 rows x 2 columns]"
      ]
     },
     "execution_count": 117,
     "metadata": {},
     "output_type": "execute_result"
    }
   ],
   "source": [
    "test_pred_df = pd.DataFrame(data=test_pred, columns=['DiagPeriodL90D'])\n",
    "result_df = pd.concat([test_patient_id.reset_index(drop=True), test_pred_df], axis=1)\n",
    "result_df"
   ]
  },
  {
   "cell_type": "code",
   "execution_count": 118,
   "id": "3969e2b9",
   "metadata": {},
   "outputs": [
    {
     "data": {
      "text/plain": [
       "patient_id        0\n",
       "DiagPeriodL90D    0\n",
       "dtype: int64"
      ]
     },
     "execution_count": 118,
     "metadata": {},
     "output_type": "execute_result"
    }
   ],
   "source": [
    "result_df.isna().sum()"
   ]
  },
  {
   "cell_type": "code",
   "execution_count": 119,
   "id": "522288e7",
   "metadata": {},
   "outputs": [],
   "source": [
    "result_df.to_csv('submission_file3.csv', index=False)"
   ]
  },
  {
   "cell_type": "code",
   "execution_count": null,
   "id": "8016249b",
   "metadata": {},
   "outputs": [],
   "source": []
  }
 ],
 "metadata": {
  "kernelspec": {
   "display_name": "Python 3 (ipykernel)",
   "language": "python",
   "name": "python3"
  },
  "language_info": {
   "codemirror_mode": {
    "name": "ipython",
    "version": 3
   },
   "file_extension": ".py",
   "mimetype": "text/x-python",
   "name": "python",
   "nbconvert_exporter": "python",
   "pygments_lexer": "ipython3",
   "version": "3.10.13"
  }
 },
 "nbformat": 4,
 "nbformat_minor": 5
}
