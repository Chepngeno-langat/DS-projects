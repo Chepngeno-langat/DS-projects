{
 "cells": [
  {
   "cell_type": "code",
   "execution_count": 1,
   "id": "fff83cef",
   "metadata": {},
   "outputs": [],
   "source": [
    "import numpy as np\n",
    "import pandas as pd"
   ]
  },
  {
   "cell_type": "code",
   "execution_count": 2,
   "id": "1f2142fe",
   "metadata": {},
   "outputs": [
    {
     "data": {
      "text/html": [
       "<div>\n",
       "<style scoped>\n",
       "    .dataframe tbody tr th:only-of-type {\n",
       "        vertical-align: middle;\n",
       "    }\n",
       "\n",
       "    .dataframe tbody tr th {\n",
       "        vertical-align: top;\n",
       "    }\n",
       "\n",
       "    .dataframe thead th {\n",
       "        text-align: right;\n",
       "    }\n",
       "</style>\n",
       "<table border=\"1\" class=\"dataframe\">\n",
       "  <thead>\n",
       "    <tr style=\"text-align: right;\">\n",
       "      <th></th>\n",
       "      <th>land_area</th>\n",
       "      <th>percent_city</th>\n",
       "      <th>percent_senior</th>\n",
       "      <th>physicians</th>\n",
       "      <th>hospital_beds</th>\n",
       "      <th>graduates</th>\n",
       "      <th>work_force</th>\n",
       "      <th>income</th>\n",
       "      <th>region</th>\n",
       "      <th>crime_rate</th>\n",
       "    </tr>\n",
       "  </thead>\n",
       "  <tbody>\n",
       "    <tr>\n",
       "      <th>count</th>\n",
       "      <td>99.000000</td>\n",
       "      <td>99.000000</td>\n",
       "      <td>99.000000</td>\n",
       "      <td>99.000000</td>\n",
       "      <td>99.000000</td>\n",
       "      <td>99.000000</td>\n",
       "      <td>99.000000</td>\n",
       "      <td>99.000000</td>\n",
       "      <td>99.000000</td>\n",
       "      <td>99.000000</td>\n",
       "    </tr>\n",
       "    <tr>\n",
       "      <th>mean</th>\n",
       "      <td>2615.727273</td>\n",
       "      <td>42.518182</td>\n",
       "      <td>9.781818</td>\n",
       "      <td>1828.333333</td>\n",
       "      <td>6345.868687</td>\n",
       "      <td>54.463636</td>\n",
       "      <td>449.366667</td>\n",
       "      <td>6762.505051</td>\n",
       "      <td>2.494949</td>\n",
       "      <td>55.643030</td>\n",
       "    </tr>\n",
       "    <tr>\n",
       "      <th>std</th>\n",
       "      <td>3045.826210</td>\n",
       "      <td>17.348277</td>\n",
       "      <td>2.524547</td>\n",
       "      <td>3192.199763</td>\n",
       "      <td>9136.202716</td>\n",
       "      <td>7.773286</td>\n",
       "      <td>610.990885</td>\n",
       "      <td>10393.349660</td>\n",
       "      <td>1.013921</td>\n",
       "      <td>13.470943</td>\n",
       "    </tr>\n",
       "    <tr>\n",
       "      <th>min</th>\n",
       "      <td>47.000000</td>\n",
       "      <td>13.400000</td>\n",
       "      <td>3.900000</td>\n",
       "      <td>140.000000</td>\n",
       "      <td>481.000000</td>\n",
       "      <td>30.300000</td>\n",
       "      <td>66.900000</td>\n",
       "      <td>769.000000</td>\n",
       "      <td>1.000000</td>\n",
       "      <td>23.320000</td>\n",
       "    </tr>\n",
       "    <tr>\n",
       "      <th>25%</th>\n",
       "      <td>1408.000000</td>\n",
       "      <td>30.100000</td>\n",
       "      <td>8.350000</td>\n",
       "      <td>459.000000</td>\n",
       "      <td>2390.000000</td>\n",
       "      <td>50.250000</td>\n",
       "      <td>150.300000</td>\n",
       "      <td>2003.000000</td>\n",
       "      <td>2.000000</td>\n",
       "      <td>46.115000</td>\n",
       "    </tr>\n",
       "    <tr>\n",
       "      <th>50%</th>\n",
       "      <td>1951.000000</td>\n",
       "      <td>39.500000</td>\n",
       "      <td>9.700000</td>\n",
       "      <td>774.000000</td>\n",
       "      <td>3472.000000</td>\n",
       "      <td>54.000000</td>\n",
       "      <td>257.200000</td>\n",
       "      <td>3510.000000</td>\n",
       "      <td>3.000000</td>\n",
       "      <td>56.060000</td>\n",
       "    </tr>\n",
       "    <tr>\n",
       "      <th>75%</th>\n",
       "      <td>2890.500000</td>\n",
       "      <td>52.600000</td>\n",
       "      <td>10.750000</td>\n",
       "      <td>1911.500000</td>\n",
       "      <td>6386.500000</td>\n",
       "      <td>58.300000</td>\n",
       "      <td>436.500000</td>\n",
       "      <td>6283.500000</td>\n",
       "      <td>3.000000</td>\n",
       "      <td>63.860000</td>\n",
       "    </tr>\n",
       "    <tr>\n",
       "      <th>max</th>\n",
       "      <td>27293.000000</td>\n",
       "      <td>100.000000</td>\n",
       "      <td>21.800000</td>\n",
       "      <td>25627.000000</td>\n",
       "      <td>69678.000000</td>\n",
       "      <td>72.800000</td>\n",
       "      <td>4083.900000</td>\n",
       "      <td>72100.000000</td>\n",
       "      <td>4.000000</td>\n",
       "      <td>85.620000</td>\n",
       "    </tr>\n",
       "  </tbody>\n",
       "</table>\n",
       "</div>"
      ],
      "text/plain": [
       "          land_area  percent_city  percent_senior    physicians  \\\n",
       "count     99.000000     99.000000       99.000000     99.000000   \n",
       "mean    2615.727273     42.518182        9.781818   1828.333333   \n",
       "std     3045.826210     17.348277        2.524547   3192.199763   \n",
       "min       47.000000     13.400000        3.900000    140.000000   \n",
       "25%     1408.000000     30.100000        8.350000    459.000000   \n",
       "50%     1951.000000     39.500000        9.700000    774.000000   \n",
       "75%     2890.500000     52.600000       10.750000   1911.500000   \n",
       "max    27293.000000    100.000000       21.800000  25627.000000   \n",
       "\n",
       "       hospital_beds  graduates   work_force        income     region  \\\n",
       "count      99.000000  99.000000    99.000000     99.000000  99.000000   \n",
       "mean     6345.868687  54.463636   449.366667   6762.505051   2.494949   \n",
       "std      9136.202716   7.773286   610.990885  10393.349660   1.013921   \n",
       "min       481.000000  30.300000    66.900000    769.000000   1.000000   \n",
       "25%      2390.000000  50.250000   150.300000   2003.000000   2.000000   \n",
       "50%      3472.000000  54.000000   257.200000   3510.000000   3.000000   \n",
       "75%      6386.500000  58.300000   436.500000   6283.500000   3.000000   \n",
       "max     69678.000000  72.800000  4083.900000  72100.000000   4.000000   \n",
       "\n",
       "       crime_rate  \n",
       "count   99.000000  \n",
       "mean    55.643030  \n",
       "std     13.470943  \n",
       "min     23.320000  \n",
       "25%     46.115000  \n",
       "50%     56.060000  \n",
       "75%     63.860000  \n",
       "max     85.620000  "
      ]
     },
     "execution_count": 2,
     "metadata": {},
     "output_type": "execute_result"
    }
   ],
   "source": [
    "metropolitan_dataset = pd.read_csv('Standard Metropolitan Areas Data - train_data - data.csv')\n",
    "metropolitan_dataset.describe()"
   ]
  },
  {
   "cell_type": "code",
   "execution_count": 3,
   "id": "66a39f02",
   "metadata": {},
   "outputs": [
    {
     "data": {
      "text/plain": [
       "<AxesSubplot:>"
      ]
     },
     "execution_count": 3,
     "metadata": {},
     "output_type": "execute_result"
    },
    {
     "data": {
      "image/png": "[encoded data removed]",
      "text/plain": [
       "<Figure size 432x288 with 1 Axes>"
      ]
     },
     "metadata": {
      "needs_background": "light"
     },
     "output_type": "display_data"
    }
   ],
   "source": [
    "metropolitan_dataset.boxplot()"
   ]
  },
  {
   "cell_type": "code",
   "execution_count": 4,
   "id": "64058d68",
   "metadata": {},
   "outputs": [],
   "source": [
    "def replace(data):\n",
    "    for x in data:\n",
    "        q75,q25 = np.percentile(data.loc[:,x],[75,25])\n",
    "        intr_qr = q75-q25\n",
    "\n",
    "        max = q75+(1.5*intr_qr)\n",
    "        min = q25-(1.5*intr_qr)\n",
    "\n",
    "        data.loc[data[x] < min,x] = np.nan\n",
    "        data.loc[data[x] > max,x] = np.nan"
   ]
  },
  {
   "cell_type": "code",
   "execution_count": 5,
   "id": "ae9c0360",
   "metadata": {},
   "outputs": [
    {
     "data": {
      "text/html": [
       "<div>\n",
       "<style scoped>\n",
       "    .dataframe tbody tr th:only-of-type {\n",
       "        vertical-align: middle;\n",
       "    }\n",
       "\n",
       "    .dataframe tbody tr th {\n",
       "        vertical-align: top;\n",
       "    }\n",
       "\n",
       "    .dataframe thead th {\n",
       "        text-align: right;\n",
       "    }\n",
       "</style>\n",
       "<table border=\"1\" class=\"dataframe\">\n",
       "  <thead>\n",
       "    <tr style=\"text-align: right;\">\n",
       "      <th></th>\n",
       "      <th>land_area</th>\n",
       "      <th>percent_city</th>\n",
       "      <th>percent_senior</th>\n",
       "      <th>physicians</th>\n",
       "      <th>hospital_beds</th>\n",
       "      <th>graduates</th>\n",
       "      <th>work_force</th>\n",
       "      <th>income</th>\n",
       "      <th>region</th>\n",
       "      <th>crime_rate</th>\n",
       "    </tr>\n",
       "  </thead>\n",
       "  <tbody>\n",
       "    <tr>\n",
       "      <th>count</th>\n",
       "      <td>91.000000</td>\n",
       "      <td>97.000000</td>\n",
       "      <td>95.000000</td>\n",
       "      <td>91.000000</td>\n",
       "      <td>87.000000</td>\n",
       "      <td>93.000000</td>\n",
       "      <td>85.000000</td>\n",
       "      <td>87.000000</td>\n",
       "      <td>99.000000</td>\n",
       "      <td>99.000000</td>\n",
       "    </tr>\n",
       "    <tr>\n",
       "      <th>mean</th>\n",
       "      <td>1979.813187</td>\n",
       "      <td>41.428866</td>\n",
       "      <td>9.545263</td>\n",
       "      <td>1114.593407</td>\n",
       "      <td>3813.655172</td>\n",
       "      <td>54.193548</td>\n",
       "      <td>256.360000</td>\n",
       "      <td>3757.609195</td>\n",
       "      <td>2.494949</td>\n",
       "      <td>55.643030</td>\n",
       "    </tr>\n",
       "    <tr>\n",
       "      <th>std</th>\n",
       "      <td>1033.125311</td>\n",
       "      <td>15.730014</td>\n",
       "      <td>1.735105</td>\n",
       "      <td>959.865037</td>\n",
       "      <td>2219.560059</td>\n",
       "      <td>6.477802</td>\n",
       "      <td>151.221319</td>\n",
       "      <td>2552.468310</td>\n",
       "      <td>1.013921</td>\n",
       "      <td>13.470943</td>\n",
       "    </tr>\n",
       "    <tr>\n",
       "      <th>min</th>\n",
       "      <td>47.000000</td>\n",
       "      <td>13.400000</td>\n",
       "      <td>6.000000</td>\n",
       "      <td>140.000000</td>\n",
       "      <td>481.000000</td>\n",
       "      <td>38.800000</td>\n",
       "      <td>66.900000</td>\n",
       "      <td>769.000000</td>\n",
       "      <td>1.000000</td>\n",
       "      <td>23.320000</td>\n",
       "    </tr>\n",
       "    <tr>\n",
       "      <th>25%</th>\n",
       "      <td>1388.000000</td>\n",
       "      <td>29.900000</td>\n",
       "      <td>8.350000</td>\n",
       "      <td>441.000000</td>\n",
       "      <td>2120.000000</td>\n",
       "      <td>50.400000</td>\n",
       "      <td>138.600000</td>\n",
       "      <td>1959.500000</td>\n",
       "      <td>2.000000</td>\n",
       "      <td>46.115000</td>\n",
       "    </tr>\n",
       "    <tr>\n",
       "      <th>50%</th>\n",
       "      <td>1750.000000</td>\n",
       "      <td>39.200000</td>\n",
       "      <td>9.700000</td>\n",
       "      <td>751.000000</td>\n",
       "      <td>3215.000000</td>\n",
       "      <td>54.000000</td>\n",
       "      <td>212.600000</td>\n",
       "      <td>2962.000000</td>\n",
       "      <td>3.000000</td>\n",
       "      <td>56.060000</td>\n",
       "    </tr>\n",
       "    <tr>\n",
       "      <th>75%</th>\n",
       "      <td>2621.000000</td>\n",
       "      <td>51.100000</td>\n",
       "      <td>10.650000</td>\n",
       "      <td>1514.000000</td>\n",
       "      <td>5276.000000</td>\n",
       "      <td>57.800000</td>\n",
       "      <td>318.500000</td>\n",
       "      <td>4476.000000</td>\n",
       "      <td>3.000000</td>\n",
       "      <td>63.860000</td>\n",
       "    </tr>\n",
       "    <tr>\n",
       "      <th>max</th>\n",
       "      <td>4647.000000</td>\n",
       "      <td>80.600000</td>\n",
       "      <td>13.400000</td>\n",
       "      <td>4047.000000</td>\n",
       "      <td>9976.000000</td>\n",
       "      <td>68.300000</td>\n",
       "      <td>710.400000</td>\n",
       "      <td>12591.000000</td>\n",
       "      <td>4.000000</td>\n",
       "      <td>85.620000</td>\n",
       "    </tr>\n",
       "  </tbody>\n",
       "</table>\n",
       "</div>"
      ],
      "text/plain": [
       "         land_area  percent_city  percent_senior   physicians  hospital_beds  \\\n",
       "count    91.000000     97.000000       95.000000    91.000000      87.000000   \n",
       "mean   1979.813187     41.428866        9.545263  1114.593407    3813.655172   \n",
       "std    1033.125311     15.730014        1.735105   959.865037    2219.560059   \n",
       "min      47.000000     13.400000        6.000000   140.000000     481.000000   \n",
       "25%    1388.000000     29.900000        8.350000   441.000000    2120.000000   \n",
       "50%    1750.000000     39.200000        9.700000   751.000000    3215.000000   \n",
       "75%    2621.000000     51.100000       10.650000  1514.000000    5276.000000   \n",
       "max    4647.000000     80.600000       13.400000  4047.000000    9976.000000   \n",
       "\n",
       "       graduates  work_force        income     region  crime_rate  \n",
       "count  93.000000   85.000000     87.000000  99.000000   99.000000  \n",
       "mean   54.193548  256.360000   3757.609195   2.494949   55.643030  \n",
       "std     6.477802  151.221319   2552.468310   1.013921   13.470943  \n",
       "min    38.800000   66.900000    769.000000   1.000000   23.320000  \n",
       "25%    50.400000  138.600000   1959.500000   2.000000   46.115000  \n",
       "50%    54.000000  212.600000   2962.000000   3.000000   56.060000  \n",
       "75%    57.800000  318.500000   4476.000000   3.000000   63.860000  \n",
       "max    68.300000  710.400000  12591.000000   4.000000   85.620000  "
      ]
     },
     "execution_count": 5,
     "metadata": {},
     "output_type": "execute_result"
    }
   ],
   "source": [
    "replace(metropolitan_dataset)\n",
    "metropolitan_dataset.describe()"
   ]
  },
  {
   "cell_type": "code",
   "execution_count": 6,
   "id": "a321e738",
   "metadata": {},
   "outputs": [
    {
     "data": {
      "text/plain": [
       "<AxesSubplot:>"
      ]
     },
     "execution_count": 6,
     "metadata": {},
     "output_type": "execute_result"
    },
    {
     "data": {
      "image/png": "[encoded data removed]",
      "text/plain": [
       "<Figure size 432x288 with 1 Axes>"
      ]
     },
     "metadata": {
      "needs_background": "light"
     },
     "output_type": "display_data"
    }
   ],
   "source": [
    "metropolitan_dataset.boxplot()"
   ]
  },
  {
   "cell_type": "code",
   "execution_count": 7,
   "id": "fd981926",
   "metadata": {},
   "outputs": [
    {
     "data": {
      "text/plain": [
       "land_area          8\n",
       "percent_city       2\n",
       "percent_senior     4\n",
       "physicians         8\n",
       "hospital_beds     12\n",
       "graduates          6\n",
       "work_force        14\n",
       "income            12\n",
       "region             0\n",
       "crime_rate         0\n",
       "dtype: int64"
      ]
     },
     "execution_count": 7,
     "metadata": {},
     "output_type": "execute_result"
    }
   ],
   "source": [
    "metropolitan_dataset.isnull().sum()"
   ]
  },
  {
   "cell_type": "code",
   "execution_count": 8,
   "id": "1d28aa49",
   "metadata": {},
   "outputs": [
    {
     "name": "stdout",
     "output_type": "stream",
     "text": [
      "imputing missing values for: land_area\n",
      "imputing missing values for: percent_city\n",
      "imputing missing values for: percent_senior\n",
      "imputing missing values for: physicians\n",
      "imputing missing values for: hospital_beds\n",
      "imputing missing values for: graduates\n",
      "imputing missing values for: work_force\n",
      "imputing missing values for: income\n"
     ]
    }
   ],
   "source": [
    "metropolitan_numeric = metropolitan_dataset.select_dtypes(include=[np.number])\n",
    "numeric_cols = metropolitan_numeric.columns.values\n",
    "\n",
    "for col in numeric_cols:\n",
    "    missing =metropolitan_dataset[col].isnull()\n",
    "    num_missing = np.sum(missing)\n",
    "    \n",
    "    if num_missing > 0:  # only do the imputation for the columns that have missing values.\n",
    "        print('imputing missing values for: {}'.format(col))\n",
    "        med = metropolitan_dataset[col].median()\n",
    "        metropolitan_dataset[col] = metropolitan_dataset[col].fillna(med)"
   ]
  },
  {
   "cell_type": "code",
   "execution_count": 9,
   "id": "c0271a78",
   "metadata": {},
   "outputs": [
    {
     "data": {
      "text/plain": [
       "land_area         0\n",
       "percent_city      0\n",
       "percent_senior    0\n",
       "physicians        0\n",
       "hospital_beds     0\n",
       "graduates         0\n",
       "work_force        0\n",
       "income            0\n",
       "region            0\n",
       "crime_rate        0\n",
       "dtype: int64"
      ]
     },
     "execution_count": 9,
     "metadata": {},
     "output_type": "execute_result"
    }
   ],
   "source": [
    "metropolitan_dataset.isnull().sum()"
   ]
  },
  {
   "cell_type": "code",
   "execution_count": 16,
   "id": "3d6f8153",
   "metadata": {},
   "outputs": [],
   "source": [
    "from sklearn.model_selection import train_test_split, GridSearchCV\n",
    "from sklearn.ensemble import RandomForestClassifier, RandomForestRegressor\n",
    "from sklearn.metrics import accuracy_score, roc_auc_score, make_scorer\n",
    "from sklearn import preprocessing, utils\n",
    "\n",
    "#ignoring the warnings\n",
    "import warnings\n",
    "warnings.filterwarnings('ignore')"
   ]
  },
  {
   "cell_type": "code",
   "execution_count": 19,
   "id": "439586d3",
   "metadata": {},
   "outputs": [
    {
     "data": {
      "text/plain": [
       "array([89, 48, 14, 81, 94, 57, 87, 76,  4, 46, 44, 37, 55, 70, 74, 20, 75,\n",
       "       31, 90, 68, 97, 39, 63, 53, 50, 92, 33, 38, 10, 60, 22, 54, 17, 78,\n",
       "       65, 35, 26, 45,  1,  5, 36, 66, 88, 28, 47, 25, 34, 56, 82, 62, 32,\n",
       "       91, 71, 95, 41, 58, 19, 59, 11, 52, 12, 73, 79, 86, 29, 21, 85, 93,\n",
       "       16, 42,  0, 64,  3, 49, 96,  8,  2, 80, 15, 27, 43, 69, 18, 13, 72,\n",
       "       84,  9, 24, 30, 23, 51, 77, 40, 67, 86,  7, 61,  6, 83])"
      ]
     },
     "execution_count": 19,
     "metadata": {},
     "output_type": "execute_result"
    }
   ],
   "source": [
    "lab = preprocessing.LabelEncoder()\n",
    "y_data = metropolitan_dataset.crime_rate\n",
    "y = lab.fit_transform(y_data)\n",
    "X = metropolitan_dataset.drop('crime_rate', axis=1)\n",
    "y"
   ]
  },
  {
   "cell_type": "code",
   "execution_count": 20,
   "id": "62ee0105",
   "metadata": {},
   "outputs": [],
   "source": [
    "X_train, X_test, y_train, y_test = train_test_split(X, y, test_size=0.33, random_state=42)"
   ]
  },
  {
   "cell_type": "code",
   "execution_count": 22,
   "id": "f5fc63d1",
   "metadata": {},
   "outputs": [
    {
     "data": {
      "text/plain": [
       "RandomForestClassifier(max_depth=5, random_state=9)"
      ]
     },
     "execution_count": 22,
     "metadata": {},
     "output_type": "execute_result"
    }
   ],
   "source": [
    "clf_1 = RandomForestClassifier(min_samples_leaf=2, random_state=9)\n",
    "clf_1.fit(X_train,y_train)\n",
    "\n",
    "#model for tuning the max depth\n",
    "clf_2 = RandomForestClassifier(max_depth = 5, random_state=9)\n",
    "clf_2.fit(X_train,y_train)"
   ]
  },
  {
   "cell_type": "code",
   "execution_count": 23,
   "id": "b6d5a3aa",
   "metadata": {},
   "outputs": [],
   "source": [
    "# predicting for min_samples 0f leaf as 2.\n",
    "y_clf_1 = clf_1.predict(X_test)\n",
    "\n",
    "# predicting for max depth 5.\n",
    "y_clf_2 = clf_2.predict(X_test)"
   ]
  },
  {
   "cell_type": "code",
   "execution_count": 25,
   "id": "0060a7b6",
   "metadata": {},
   "outputs": [
    {
     "name": "stdout",
     "output_type": "stream",
     "text": [
      "Accuracy score of the model with min sample leaf 2 is: 0.0\n",
      "\n",
      "\n",
      "Accuracy score of the model with max depth 5 is: 0.0\n"
     ]
    }
   ],
   "source": [
    "#calculate accuracy and roc auc score for min leaf samples\n",
    "\n",
    "accuracy_clf_1 = accuracy_score(y_test, y_clf_1)\n",
    "#auc_roc1 = roc_auc_score(y_test, y_clf_1)\n",
    "print(\"Accuracy score of the model with min sample leaf 2 is: {}\".format(accuracy_clf_1))\n",
    "#print(\"roc_auc_score of the model1 is: {}\".format(auc_roc1))\n",
    "\n",
    "print(\"\\n\")\n",
    "\n",
    "#calculate accuracy and roc auc score for max depth 5\n",
    "\n",
    "accuracy_clf_2 = accuracy_score(y_test,y_clf_2)\n",
    "#auc_roc2 = roc_auc_score(y_test, y_clf_2)\n",
    "print(\"Accuracy score of the model with max depth 5 is: {}\".format(accuracy_clf_2))\n",
    "#print(\"roc_auc_score of the model2 is: {}\".format(auc_roc2))"
   ]
  }
 ],
 "metadata": {
  "kernelspec": {
   "display_name": "Python 3 (ipykernel)",
   "language": "python",
   "name": "python3"
  },
  "language_info": {
   "codemirror_mode": {
    "name": "ipython",
    "version": 3
   },
   "file_extension": ".py",
   "mimetype": "text/x-python",
   "name": "python",
   "nbconvert_exporter": "python",
   "pygments_lexer": "ipython3",
   "version": "3.9.7"
  }
 },
 "nbformat": 4,
 "nbformat_minor": 5
}
