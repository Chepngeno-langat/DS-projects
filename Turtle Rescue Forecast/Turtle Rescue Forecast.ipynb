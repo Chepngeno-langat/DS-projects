{
 "cells": [
  {
   "cell_type": "code",
   "execution_count": 10,
   "id": "6caa51e1",
   "metadata": {},
   "outputs": [],
   "source": [
    "import numpy as np\n",
    "import pandas as pd\n",
    "import matplotlib.pyplot as plt\n",
    "import seaborn as sns\n",
    "\n",
    "import warnings\n",
    "warnings.filterwarnings('ignore')"
   ]
  },
  {
   "cell_type": "code",
   "execution_count": 11,
   "id": "424ae2f0",
   "metadata": {},
   "outputs": [],
   "source": [
    "train_data = pd.read_csv('/home/karen/Documents/Datasets/turtle rescue dataset/train.csv')\n",
    "capture_site = pd.read_csv('/home/karen/Documents/Datasets/turtle rescue dataset/CaptureSite_category.csv')\n",
    "variable_definitions = pd.read_csv('/home/karen/Documents/Datasets/turtle rescue dataset/variable_definitions.csv', encoding='cp1252')"
   ]
  },
  {
   "cell_type": "code",
   "execution_count": 12,
   "id": "bdd6bfbf",
   "metadata": {},
   "outputs": [
    {
     "data": {
      "text/html": [
       "<div>\n",
       "<style scoped>\n",
       "    .dataframe tbody tr th:only-of-type {\n",
       "        vertical-align: middle;\n",
       "    }\n",
       "\n",
       "    .dataframe tbody tr th {\n",
       "        vertical-align: top;\n",
       "    }\n",
       "\n",
       "    .dataframe thead th {\n",
       "        text-align: right;\n",
       "    }\n",
       "</style>\n",
       "<table border=\"1\" class=\"dataframe\">\n",
       "  <thead>\n",
       "    <tr style=\"text-align: right;\">\n",
       "      <th></th>\n",
       "      <th>Rescue_ID</th>\n",
       "      <th>Date_TimeCaught</th>\n",
       "      <th>Researcher</th>\n",
       "      <th>CaptureSite</th>\n",
       "      <th>ForagingGround</th>\n",
       "      <th>CaptureMethod</th>\n",
       "      <th>Fisher</th>\n",
       "      <th>LandingSite</th>\n",
       "      <th>Species</th>\n",
       "      <th>Tag_1</th>\n",
       "      <th>...</th>\n",
       "      <th>Lost_Tags</th>\n",
       "      <th>T_Number</th>\n",
       "      <th>CCL_cm</th>\n",
       "      <th>CCW_cm</th>\n",
       "      <th>Weight_Kg</th>\n",
       "      <th>Sex</th>\n",
       "      <th>TurtleCharacteristics</th>\n",
       "      <th>Status</th>\n",
       "      <th>ReleaseSite</th>\n",
       "      <th>Date_TimeRelease</th>\n",
       "    </tr>\n",
       "  </thead>\n",
       "  <tbody>\n",
       "    <tr>\n",
       "      <th>0</th>\n",
       "      <td>2000_RE_0060</td>\n",
       "      <td>2000-12-22</td>\n",
       "      <td>Researcher_25</td>\n",
       "      <td>CaptureSite_0</td>\n",
       "      <td>Ocean</td>\n",
       "      <td>Net</td>\n",
       "      <td>Fisher_1072</td>\n",
       "      <td>LandingSite_CaptureSiteCategory_2</td>\n",
       "      <td>Species_6</td>\n",
       "      <td>CC00147</td>\n",
       "      <td>...</td>\n",
       "      <td>NaN</td>\n",
       "      <td>NaN</td>\n",
       "      <td>64.70</td>\n",
       "      <td>62.60</td>\n",
       "      <td>NaN</td>\n",
       "      <td>Unknown</td>\n",
       "      <td>algae at rear of shell</td>\n",
       "      <td>Released</td>\n",
       "      <td>ReleaseSite_50</td>\n",
       "      <td>22/12/00</td>\n",
       "    </tr>\n",
       "    <tr>\n",
       "      <th>1</th>\n",
       "      <td>2001_RE_0187</td>\n",
       "      <td>2001-10-28</td>\n",
       "      <td>Researcher_6</td>\n",
       "      <td>CaptureSite_0</td>\n",
       "      <td>Ocean</td>\n",
       "      <td>Net</td>\n",
       "      <td>Fisher_520</td>\n",
       "      <td>LandingSite_CaptureSiteCategory_2</td>\n",
       "      <td>Species_6</td>\n",
       "      <td>W442</td>\n",
       "      <td>...</td>\n",
       "      <td>NaN</td>\n",
       "      <td>NaN</td>\n",
       "      <td>35.85</td>\n",
       "      <td>31.35</td>\n",
       "      <td>NaN</td>\n",
       "      <td>Unknown</td>\n",
       "      <td>multiple b's on front flippers&amp;  a lot of alga...</td>\n",
       "      <td>Released</td>\n",
       "      <td>ReleaseSite_62</td>\n",
       "      <td>28/10/01</td>\n",
       "    </tr>\n",
       "    <tr>\n",
       "      <th>2</th>\n",
       "      <td>2001_RE_0197</td>\n",
       "      <td>2001-11-01</td>\n",
       "      <td>Researcher_6</td>\n",
       "      <td>CaptureSite_0</td>\n",
       "      <td>Ocean</td>\n",
       "      <td>Net</td>\n",
       "      <td>Fisher_1669</td>\n",
       "      <td>LandingSite_CaptureSiteCategory_2</td>\n",
       "      <td>Species_5</td>\n",
       "      <td>KE0376</td>\n",
       "      <td>...</td>\n",
       "      <td>NaN</td>\n",
       "      <td>NaN</td>\n",
       "      <td>51.80</td>\n",
       "      <td>49.20</td>\n",
       "      <td>NaN</td>\n",
       "      <td>Unknown</td>\n",
       "      <td>clean</td>\n",
       "      <td>Released</td>\n",
       "      <td>ReleaseSite_50</td>\n",
       "      <td>01/11/01</td>\n",
       "    </tr>\n",
       "    <tr>\n",
       "      <th>3</th>\n",
       "      <td>2002_RE_0031</td>\n",
       "      <td>2002-03-11</td>\n",
       "      <td>Researcher_32</td>\n",
       "      <td>CaptureSite_0</td>\n",
       "      <td>Ocean</td>\n",
       "      <td>Net</td>\n",
       "      <td>Fisher_1798</td>\n",
       "      <td>LandingSite_CaptureSiteCategory_2</td>\n",
       "      <td>Species_6</td>\n",
       "      <td>CC00302</td>\n",
       "      <td>...</td>\n",
       "      <td>NaN</td>\n",
       "      <td>NaN</td>\n",
       "      <td>60.50</td>\n",
       "      <td>59.00</td>\n",
       "      <td>NaN</td>\n",
       "      <td>Unknown</td>\n",
       "      <td>1 b 3 CS+ calcerous algae at rear end of shell...</td>\n",
       "      <td>Released</td>\n",
       "      <td>ReleaseSite_50</td>\n",
       "      <td>11/03/02</td>\n",
       "    </tr>\n",
       "    <tr>\n",
       "      <th>4</th>\n",
       "      <td>2002_RE_0118</td>\n",
       "      <td>2002-08-08</td>\n",
       "      <td>Researcher_25</td>\n",
       "      <td>CaptureSite_0</td>\n",
       "      <td>Ocean</td>\n",
       "      <td>Beached</td>\n",
       "      <td>Fisher_1918</td>\n",
       "      <td>LandingSite_CaptureSiteCategory_2</td>\n",
       "      <td>Species_5</td>\n",
       "      <td>NotTagged_0113</td>\n",
       "      <td>...</td>\n",
       "      <td>NaN</td>\n",
       "      <td>NaN</td>\n",
       "      <td>34.70</td>\n",
       "      <td>33.00</td>\n",
       "      <td>NaN</td>\n",
       "      <td>Unknown</td>\n",
       "      <td>very lively+ right eye is hanging out + swolle...</td>\n",
       "      <td>Released</td>\n",
       "      <td>ReleaseSite_62</td>\n",
       "      <td>08/08/02</td>\n",
       "    </tr>\n",
       "  </tbody>\n",
       "</table>\n",
       "<p>5 rows × 21 columns</p>\n",
       "</div>"
      ],
      "text/plain": [
       "      Rescue_ID Date_TimeCaught     Researcher    CaptureSite ForagingGround  \\\n",
       "0  2000_RE_0060      2000-12-22  Researcher_25  CaptureSite_0          Ocean   \n",
       "1  2001_RE_0187      2001-10-28   Researcher_6  CaptureSite_0          Ocean   \n",
       "2  2001_RE_0197      2001-11-01   Researcher_6  CaptureSite_0          Ocean   \n",
       "3  2002_RE_0031      2002-03-11  Researcher_32  CaptureSite_0          Ocean   \n",
       "4  2002_RE_0118      2002-08-08  Researcher_25  CaptureSite_0          Ocean   \n",
       "\n",
       "  CaptureMethod       Fisher                        LandingSite    Species  \\\n",
       "0           Net  Fisher_1072  LandingSite_CaptureSiteCategory_2  Species_6   \n",
       "1           Net   Fisher_520  LandingSite_CaptureSiteCategory_2  Species_6   \n",
       "2           Net  Fisher_1669  LandingSite_CaptureSiteCategory_2  Species_5   \n",
       "3           Net  Fisher_1798  LandingSite_CaptureSiteCategory_2  Species_6   \n",
       "4       Beached  Fisher_1918  LandingSite_CaptureSiteCategory_2  Species_5   \n",
       "\n",
       "            Tag_1  ... Lost_Tags T_Number CCL_cm  CCW_cm  Weight_Kg      Sex  \\\n",
       "0         CC00147  ...       NaN      NaN  64.70   62.60        NaN  Unknown   \n",
       "1            W442  ...       NaN      NaN  35.85   31.35        NaN  Unknown   \n",
       "2          KE0376  ...       NaN      NaN  51.80   49.20        NaN  Unknown   \n",
       "3         CC00302  ...       NaN      NaN  60.50   59.00        NaN  Unknown   \n",
       "4  NotTagged_0113  ...       NaN      NaN  34.70   33.00        NaN  Unknown   \n",
       "\n",
       "                               TurtleCharacteristics    Status  \\\n",
       "0                             algae at rear of shell  Released   \n",
       "1  multiple b's on front flippers&  a lot of alga...  Released   \n",
       "2                                              clean  Released   \n",
       "3  1 b 3 CS+ calcerous algae at rear end of shell...  Released   \n",
       "4  very lively+ right eye is hanging out + swolle...  Released   \n",
       "\n",
       "      ReleaseSite Date_TimeRelease  \n",
       "0  ReleaseSite_50         22/12/00  \n",
       "1  ReleaseSite_62         28/10/01  \n",
       "2  ReleaseSite_50         01/11/01  \n",
       "3  ReleaseSite_50         11/03/02  \n",
       "4  ReleaseSite_62         08/08/02  \n",
       "\n",
       "[5 rows x 21 columns]"
      ]
     },
     "execution_count": 12,
     "metadata": {},
     "output_type": "execute_result"
    }
   ],
   "source": [
    "train_data.head()"
   ]
  },
  {
   "cell_type": "code",
   "execution_count": 13,
   "id": "06b7d513",
   "metadata": {},
   "outputs": [
    {
     "data": {
      "text/html": [
       "<div>\n",
       "<style scoped>\n",
       "    .dataframe tbody tr th:only-of-type {\n",
       "        vertical-align: middle;\n",
       "    }\n",
       "\n",
       "    .dataframe tbody tr th {\n",
       "        vertical-align: top;\n",
       "    }\n",
       "\n",
       "    .dataframe thead th {\n",
       "        text-align: right;\n",
       "    }\n",
       "</style>\n",
       "<table border=\"1\" class=\"dataframe\">\n",
       "  <thead>\n",
       "    <tr style=\"text-align: right;\">\n",
       "      <th></th>\n",
       "      <th>CaptureSite</th>\n",
       "      <th>CaptureSiteCategory</th>\n",
       "      <th>Type</th>\n",
       "    </tr>\n",
       "  </thead>\n",
       "  <tbody>\n",
       "    <tr>\n",
       "      <th>0</th>\n",
       "      <td>CaptureSite_0</td>\n",
       "      <td>CaptureSiteCategory_2</td>\n",
       "      <td>Type_1</td>\n",
       "    </tr>\n",
       "    <tr>\n",
       "      <th>1</th>\n",
       "      <td>CaptureSite_1</td>\n",
       "      <td>CaptureSiteCategory_2</td>\n",
       "      <td>Type_1</td>\n",
       "    </tr>\n",
       "    <tr>\n",
       "      <th>2</th>\n",
       "      <td>CaptureSite_10</td>\n",
       "      <td>CaptureSiteCategory_2</td>\n",
       "      <td>Type_1</td>\n",
       "    </tr>\n",
       "    <tr>\n",
       "      <th>3</th>\n",
       "      <td>CaptureSite_11</td>\n",
       "      <td>CaptureSiteCategory_0</td>\n",
       "      <td>Type_0</td>\n",
       "    </tr>\n",
       "    <tr>\n",
       "      <th>4</th>\n",
       "      <td>CaptureSite_12</td>\n",
       "      <td>CaptureSiteCategory_2</td>\n",
       "      <td>Type_1</td>\n",
       "    </tr>\n",
       "  </tbody>\n",
       "</table>\n",
       "</div>"
      ],
      "text/plain": [
       "      CaptureSite    CaptureSiteCategory    Type\n",
       "0   CaptureSite_0  CaptureSiteCategory_2  Type_1\n",
       "1   CaptureSite_1  CaptureSiteCategory_2  Type_1\n",
       "2  CaptureSite_10  CaptureSiteCategory_2  Type_1\n",
       "3  CaptureSite_11  CaptureSiteCategory_0  Type_0\n",
       "4  CaptureSite_12  CaptureSiteCategory_2  Type_1"
      ]
     },
     "execution_count": 13,
     "metadata": {},
     "output_type": "execute_result"
    }
   ],
   "source": [
    "capture_site.head()"
   ]
  },
  {
   "cell_type": "code",
   "execution_count": 14,
   "id": "32efa28d",
   "metadata": {},
   "outputs": [
    {
     "data": {
      "text/plain": [
       "Rescue_ID                    0\n",
       "Date_TimeCaught              0\n",
       "Researcher                   0\n",
       "CaptureSite                  0\n",
       "ForagingGround               0\n",
       "CaptureMethod                0\n",
       "Fisher                       0\n",
       "LandingSite                  0\n",
       "Species                      0\n",
       "Tag_1                        0\n",
       "Tag_2                        0\n",
       "Lost_Tags                17137\n",
       "T_Number                 18024\n",
       "CCL_cm                      24\n",
       "CCW_cm                      27\n",
       "Weight_Kg                 5409\n",
       "Sex                       4330\n",
       "TurtleCharacteristics       41\n",
       "Status                    3633\n",
       "ReleaseSite                 75\n",
       "Date_TimeRelease          6108\n",
       "dtype: int64"
      ]
     },
     "execution_count": 14,
     "metadata": {},
     "output_type": "execute_result"
    }
   ],
   "source": [
    "train_data.isnull().sum()"
   ]
  },
  {
   "cell_type": "code",
   "execution_count": 15,
   "id": "e6257424",
   "metadata": {},
   "outputs": [
    {
     "data": {
      "text/plain": [
       "Text(18024.02, 20.0, '100%')"
      ]
     },
     "execution_count": 15,
     "metadata": {},
     "output_type": "execute_result"
    },
    {
     "data": {
      "image/png": "[encoded data removed]",
      "text/plain": [
       "<Figure size 900x1000 with 1 Axes>"
      ]
     },
     "metadata": {},
     "output_type": "display_data"
    }
   ],
   "source": [
    "# Plot showing missing values in train set\n",
    "ax = train_data.isna().sum().sort_values().plot(kind = 'barh', figsize = (9, 10))\n",
    "plt.title('Percentage of Missing Values Per Column in Train Set', fontdict={'size':15})\n",
    "for p in ax.patches:\n",
    "    percentage ='{:,.0f}%'.format((p.get_width()/train_data.shape[0])*100)\n",
    "    width, height =p.get_width(),p.get_height()\n",
    "    x=p.get_x()+width+0.02\n",
    "    y=p.get_y()+height/2\n",
    "ax.annotate(percentage,(x,y))"
   ]
  },
  {
   "cell_type": "code",
   "execution_count": 16,
   "id": "e0cf3529",
   "metadata": {},
   "outputs": [],
   "source": [
    "train_data.drop(['T_Number', 'Lost_Tags'], axis=1, inplace=True)"
   ]
  },
  {
   "cell_type": "code",
   "execution_count": 17,
   "id": "151027d5",
   "metadata": {},
   "outputs": [
    {
     "data": {
      "text/plain": [
       "Index(['Rescue_ID', 'Date_TimeCaught', 'Researcher', 'CaptureSite',\n",
       "       'ForagingGround', 'CaptureMethod', 'Fisher', 'LandingSite', 'Species',\n",
       "       'Tag_1', 'Tag_2', 'CCL_cm', 'CCW_cm', 'Weight_Kg', 'Sex',\n",
       "       'TurtleCharacteristics', 'Status', 'ReleaseSite', 'Date_TimeRelease'],\n",
       "      dtype='object')"
      ]
     },
     "execution_count": 17,
     "metadata": {},
     "output_type": "execute_result"
    }
   ],
   "source": [
    "train_data.columns"
   ]
  },
  {
   "cell_type": "code",
   "execution_count": 18,
   "id": "3fce1354",
   "metadata": {},
   "outputs": [
    {
     "data": {
      "text/plain": [
       "29"
      ]
     },
     "execution_count": 18,
     "metadata": {},
     "output_type": "execute_result"
    }
   ],
   "source": [
    "capture_site.CaptureSite.nunique()"
   ]
  },
  {
   "cell_type": "code",
   "execution_count": null,
   "id": "866eac0d",
   "metadata": {},
   "outputs": [],
   "source": []
  }
 ],
 "metadata": {
  "kernelspec": {
   "display_name": "Python 3 (ipykernel)",
   "language": "python",
   "name": "python3"
  },
  "language_info": {
   "codemirror_mode": {
    "name": "ipython",
    "version": 3
   },
   "file_extension": ".py",
   "mimetype": "text/x-python",
   "name": "python",
   "nbconvert_exporter": "python",
   "pygments_lexer": "ipython3",
   "version": "3.10.9"
  }
 },
 "nbformat": 4,
 "nbformat_minor": 5
}
